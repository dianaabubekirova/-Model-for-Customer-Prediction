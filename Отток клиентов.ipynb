{
 "cells": [
  {
   "cell_type": "markdown",
   "metadata": {},
   "source": [
    "**Инструкция по выполнению проекта**\n",
    "<br>Загрузите и подготовьте данные. Поясните порядок действий.\n",
    "<br>Исследуйте баланс классов, обучите модель без учёта дисбаланса. Кратко опишите выводы.\n",
    "<br>Улучшите качество модели, учитывая дисбаланс классов. Обучите разные модели и найдите лучшую. Кратко опишите выводы.\n",
    "<br>Проведите финальное тестирование.\n",
    "\n",
    "**Описание данных**\n",
    "<br>Данные находятся в файле /datasets/Churn.csv (англ. «отток клиентов»). Скачать датасет\n",
    "<br>***Признаки***\n",
    "<br>RowNumber — индекс строки в данных\n",
    "<br>CustomerId — уникальный идентификатор клиента\n",
    "<br>Surname — фамилия\n",
    "<br>CreditScore — кредитный рейтинг\n",
    "<br>Geography — страна проживания\n",
    "<br>Gender — пол\n",
    "<br>Age — возраст\n",
    "<br>Tenure — сколько лет человек является клиентом банка\n",
    "<br>Balance — баланс на счёте\n",
    "<br>NumOfProducts — количество продуктов банка, используемых клиентом\n",
    "<br>HasCrCard — наличие кредитной карты\n",
    "<br>IsActiveMember — активность клиента\n",
    "<br>EstimatedSalary — предполагаемая зарплата\n",
    "<br>***Целевой признак***\n",
    "<br>Exited — факт ухода клиента"
   ]
  },
  {
   "cell_type": "markdown",
   "metadata": {
    "toc": true
   },
   "source": [
    "<h1>Содержание<span class=\"tocSkip\"></span></h1>\n",
    "<div class=\"toc\"><ul class=\"toc-item\"><li><span><a href=\"#Подготовка-данных\" data-toc-modified-id=\"Подготовка-данных-1\"><span class=\"toc-item-num\">1&nbsp;&nbsp;</span>Подготовка данных</a></span></li><li><span><a href=\"#Исследование-задачи\" data-toc-modified-id=\"Исследование-задачи-2\"><span class=\"toc-item-num\">2&nbsp;&nbsp;</span>Исследование задачи</a></span><ul class=\"toc-item\"><li><span><a href=\"#Исследование-баланса-классовов\" data-toc-modified-id=\"Исследование-баланса-классовов-2.1\"><span class=\"toc-item-num\">2.1&nbsp;&nbsp;</span>Исследование баланса классовов</a></span></li><li><span><a href=\"#Изучение-моделей-без-учёта-дисбаланса\" data-toc-modified-id=\"Изучение-моделей-без-учёта-дисбаланса-2.2\"><span class=\"toc-item-num\">2.2&nbsp;&nbsp;</span>Изучение моделей без учёта дисбаланса</a></span><ul class=\"toc-item\"><li><span><a href=\"#Дерево-решений\" data-toc-modified-id=\"Дерево-решений-2.2.1\"><span class=\"toc-item-num\">2.2.1&nbsp;&nbsp;</span>Дерево решений</a></span></li><li><span><a href=\"#Случайный-лес\" data-toc-modified-id=\"Случайный-лес-2.2.2\"><span class=\"toc-item-num\">2.2.2&nbsp;&nbsp;</span>Случайный лес</a></span></li><li><span><a href=\"#Логистическая-регрессия\" data-toc-modified-id=\"Логистическая-регрессия-2.2.3\"><span class=\"toc-item-num\">2.2.3&nbsp;&nbsp;</span>Логистическая регрессия</a></span></li></ul></li><li><span><a href=\"#Вывод:\" data-toc-modified-id=\"Вывод:-2.3\"><span class=\"toc-item-num\">2.3&nbsp;&nbsp;</span>Вывод:</a></span></li></ul></li><li><span><a href=\"#Борьба-с-дисбалансом\" data-toc-modified-id=\"Борьба-с-дисбалансом-3\"><span class=\"toc-item-num\">3&nbsp;&nbsp;</span>Борьба с дисбалансом</a></span><ul class=\"toc-item\"><li><span><a href=\"#LogisticRegression\" data-toc-modified-id=\"LogisticRegression-3.1\"><span class=\"toc-item-num\">3.1&nbsp;&nbsp;</span>LogisticRegression</a></span><ul class=\"toc-item\"><li><span><a href=\"#Увеличение-выборки-(oversampling)\" data-toc-modified-id=\"Увеличение-выборки-(oversampling)-3.1.1\"><span class=\"toc-item-num\">3.1.1&nbsp;&nbsp;</span>Увеличение выборки (oversampling)</a></span></li><li><span><a href=\"#Уменьшение-выборки-(undersampling)\" data-toc-modified-id=\"Уменьшение-выборки-(undersampling)-3.1.2\"><span class=\"toc-item-num\">3.1.2&nbsp;&nbsp;</span>Уменьшение выборки (undersampling)</a></span></li><li><span><a href=\"#Взвешивание-классов\" data-toc-modified-id=\"Взвешивание-классов-3.1.3\"><span class=\"toc-item-num\">3.1.3&nbsp;&nbsp;</span>Взвешивание классов</a></span></li></ul></li><li><span><a href=\"#RandomForestClassifier\" data-toc-modified-id=\"RandomForestClassifier-3.2\"><span class=\"toc-item-num\">3.2&nbsp;&nbsp;</span>RandomForestClassifier</a></span><ul class=\"toc-item\"><li><span><a href=\"#Увеличение-выборки-(oversampling)\" data-toc-modified-id=\"Увеличение-выборки-(oversampling)-3.2.1\"><span class=\"toc-item-num\">3.2.1&nbsp;&nbsp;</span>Увеличение выборки (oversampling)</a></span></li><li><span><a href=\"#Уменьшение-выборки-(undersampling)\" data-toc-modified-id=\"Уменьшение-выборки-(undersampling)-3.2.2\"><span class=\"toc-item-num\">3.2.2&nbsp;&nbsp;</span>Уменьшение выборки (undersampling)</a></span></li><li><span><a href=\"#Взвешивание-классов\" data-toc-modified-id=\"Взвешивание-классов-3.2.3\"><span class=\"toc-item-num\">3.2.3&nbsp;&nbsp;</span>Взвешивание классов</a></span></li></ul></li><li><span><a href=\"#DesicionTreeClassifier\" data-toc-modified-id=\"DesicionTreeClassifier-3.3\"><span class=\"toc-item-num\">3.3&nbsp;&nbsp;</span>DesicionTreeClassifier</a></span><ul class=\"toc-item\"><li><span><a href=\"#Увеличение-выборки-(oversampling)\" data-toc-modified-id=\"Увеличение-выборки-(oversampling)-3.3.1\"><span class=\"toc-item-num\">3.3.1&nbsp;&nbsp;</span>Увеличение выборки (oversampling)</a></span></li><li><span><a href=\"#Уменьшение-выборки-(undersampling)\" data-toc-modified-id=\"Уменьшение-выборки-(undersampling)-3.3.2\"><span class=\"toc-item-num\">3.3.2&nbsp;&nbsp;</span>Уменьшение выборки (undersampling)</a></span></li><li><span><a href=\"#Взвешивание-классов\" data-toc-modified-id=\"Взвешивание-классов-3.3.3\"><span class=\"toc-item-num\">3.3.3&nbsp;&nbsp;</span>Взвешивание классов</a></span></li></ul></li><li><span><a href=\"#Вывод:\" data-toc-modified-id=\"Вывод:-3.4\"><span class=\"toc-item-num\">3.4&nbsp;&nbsp;</span>Вывод:</a></span></li></ul></li><li><span><a href=\"#Тестирование-модели\" data-toc-modified-id=\"Тестирование-модели-4\"><span class=\"toc-item-num\">4&nbsp;&nbsp;</span>Тестирование модели</a></span><ul class=\"toc-item\"><li><span><a href=\"#Проверим-модель-логистической-регрессии-на-тестовой-выборке\" data-toc-modified-id=\"Проверим-модель-логистической-регрессии-на-тестовой-выборке-4.1\"><span class=\"toc-item-num\">4.1&nbsp;&nbsp;</span>Проверим модель логистической регрессии на тестовой выборке</a></span></li><li><span><a href=\"#Проверим-модель-DesicionTreeClassifier-на-тестовой-выборке\" data-toc-modified-id=\"Проверим-модель-DesicionTreeClassifier-на-тестовой-выборке-4.2\"><span class=\"toc-item-num\">4.2&nbsp;&nbsp;</span>Проверим модель DesicionTreeClassifier на тестовой выборке</a></span></li><li><span><a href=\"#Проверим-лучшую-модель-RandomForestClassifier-на-тестовой-выборке\" data-toc-modified-id=\"Проверим-лучшую-модель-RandomForestClassifier-на-тестовой-выборке-4.3\"><span class=\"toc-item-num\">4.3&nbsp;&nbsp;</span>Проверим лучшую модель RandomForestClassifier на тестовой выборке</a></span></li><li><span><a href=\"#Вывод:\" data-toc-modified-id=\"Вывод:-4.4\"><span class=\"toc-item-num\">4.4&nbsp;&nbsp;</span>Вывод:</a></span></li></ul></li><li><span><a href=\"#Чек-лист-готовности-проекта\" data-toc-modified-id=\"Чек-лист-готовности-проекта-5\"><span class=\"toc-item-num\">5&nbsp;&nbsp;</span>Чек-лист готовности проекта</a></span></li></ul></div>"
   ]
  },
  {
   "cell_type": "markdown",
   "metadata": {},
   "source": [
    "# Отток клиентов"
   ]
  },
  {
   "cell_type": "markdown",
   "metadata": {},
   "source": [
    "Из «Бета-Банка» стали уходить клиенты. Каждый месяц. Немного, но заметно. Банковские маркетологи посчитали: сохранять текущих клиентов дешевле, чем привлекать новых.\n",
    "\n",
    "Нужно спрогнозировать, уйдёт клиент из банка в ближайшее время или нет. Вам предоставлены исторические данные о поведении клиентов и расторжении договоров с банком. \n",
    "\n",
    "Постройте модель с предельно большим значением *F1*-меры. Чтобы сдать проект успешно, нужно довести метрику до 0.59. Проверьте *F1*-меру на тестовой выборке самостоятельно.\n",
    "\n",
    "Дополнительно измеряйте *AUC-ROC*, сравнивайте её значение с *F1*-мерой.\n",
    "\n",
    "Источник данных: [https://www.kaggle.com/barelydedicated/bank-customer-churn-modeling](https://www.kaggle.com/barelydedicated/bank-customer-churn-modeling)"
   ]
  },
  {
   "cell_type": "markdown",
   "metadata": {},
   "source": [
    "## Подготовка данных"
   ]
  },
  {
   "cell_type": "markdown",
   "metadata": {},
   "source": [
    "Импортируем необходимые библиотеки"
   ]
  },
  {
   "cell_type": "code",
   "execution_count": 1,
   "metadata": {},
   "outputs": [],
   "source": [
    "import pandas as pd\n",
    "import matplotlib.pyplot as plt\n",
    "import numpy as np\n",
    "from sklearn.model_selection import train_test_split\n",
    "from sklearn.metrics import make_scorer, f1_score\n",
    "from sklearn.linear_model import LogisticRegression\n",
    "from sklearn.tree import DecisionTreeClassifier\n",
    "from sklearn.metrics import f1_score\n",
    "from sklearn.metrics import accuracy_score\n",
    "from sklearn.preprocessing import OneHotEncoder\n",
    "from sklearn.ensemble import RandomForestClassifier\n",
    "from sklearn.utils import shuffle\n",
    "from sklearn.preprocessing import StandardScaler\n",
    "from sklearn.metrics import precision_score, recall_score\n",
    "from sklearn.metrics import roc_auc_score\n",
    "from sklearn.metrics import roc_curve\n",
    "from sklearn.model_selection import GridSearchCV"
   ]
  },
  {
   "cell_type": "code",
   "execution_count": 2,
   "metadata": {},
   "outputs": [],
   "source": [
    "df = pd.read_csv('/datasets/Churn.csv')\n",
    "#Читаем файл, сохраняем в переменную df"
   ]
  },
  {
   "cell_type": "code",
   "execution_count": 3,
   "metadata": {
    "scrolled": true
   },
   "outputs": [
    {
     "name": "stdout",
     "output_type": "stream",
     "text": [
      "<class 'pandas.core.frame.DataFrame'>\n",
      "RangeIndex: 10000 entries, 0 to 9999\n",
      "Data columns (total 14 columns):\n",
      " #   Column           Non-Null Count  Dtype  \n",
      "---  ------           --------------  -----  \n",
      " 0   RowNumber        10000 non-null  int64  \n",
      " 1   CustomerId       10000 non-null  int64  \n",
      " 2   Surname          10000 non-null  object \n",
      " 3   CreditScore      10000 non-null  int64  \n",
      " 4   Geography        10000 non-null  object \n",
      " 5   Gender           10000 non-null  object \n",
      " 6   Age              10000 non-null  int64  \n",
      " 7   Tenure           9091 non-null   float64\n",
      " 8   Balance          10000 non-null  float64\n",
      " 9   NumOfProducts    10000 non-null  int64  \n",
      " 10  HasCrCard        10000 non-null  int64  \n",
      " 11  IsActiveMember   10000 non-null  int64  \n",
      " 12  EstimatedSalary  10000 non-null  float64\n",
      " 13  Exited           10000 non-null  int64  \n",
      "dtypes: float64(3), int64(8), object(3)\n",
      "memory usage: 1.1+ MB\n"
     ]
    }
   ],
   "source": [
    "df.info()\n",
    "#узнаем размер таблицы и данные"
   ]
  },
  {
   "cell_type": "markdown",
   "metadata": {},
   "source": [
    "Изучим таблицу и проанализируем данные в ней"
   ]
  },
  {
   "cell_type": "code",
   "execution_count": 4,
   "metadata": {
    "scrolled": true
   },
   "outputs": [
    {
     "data": {
      "text/html": [
       "<div>\n",
       "<style scoped>\n",
       "    .dataframe tbody tr th:only-of-type {\n",
       "        vertical-align: middle;\n",
       "    }\n",
       "\n",
       "    .dataframe tbody tr th {\n",
       "        vertical-align: top;\n",
       "    }\n",
       "\n",
       "    .dataframe thead th {\n",
       "        text-align: right;\n",
       "    }\n",
       "</style>\n",
       "<table border=\"1\" class=\"dataframe\">\n",
       "  <thead>\n",
       "    <tr style=\"text-align: right;\">\n",
       "      <th></th>\n",
       "      <th>RowNumber</th>\n",
       "      <th>CustomerId</th>\n",
       "      <th>CreditScore</th>\n",
       "      <th>Age</th>\n",
       "      <th>Tenure</th>\n",
       "      <th>Balance</th>\n",
       "      <th>NumOfProducts</th>\n",
       "      <th>HasCrCard</th>\n",
       "      <th>IsActiveMember</th>\n",
       "      <th>EstimatedSalary</th>\n",
       "      <th>Exited</th>\n",
       "    </tr>\n",
       "  </thead>\n",
       "  <tbody>\n",
       "    <tr>\n",
       "      <th>count</th>\n",
       "      <td>10000.00000</td>\n",
       "      <td>1.000000e+04</td>\n",
       "      <td>10000.000000</td>\n",
       "      <td>10000.000000</td>\n",
       "      <td>9091.000000</td>\n",
       "      <td>10000.000000</td>\n",
       "      <td>10000.000000</td>\n",
       "      <td>10000.00000</td>\n",
       "      <td>10000.000000</td>\n",
       "      <td>10000.000000</td>\n",
       "      <td>10000.000000</td>\n",
       "    </tr>\n",
       "    <tr>\n",
       "      <th>mean</th>\n",
       "      <td>5000.50000</td>\n",
       "      <td>1.569094e+07</td>\n",
       "      <td>650.528800</td>\n",
       "      <td>38.921800</td>\n",
       "      <td>4.997690</td>\n",
       "      <td>76485.889288</td>\n",
       "      <td>1.530200</td>\n",
       "      <td>0.70550</td>\n",
       "      <td>0.515100</td>\n",
       "      <td>100090.239881</td>\n",
       "      <td>0.203700</td>\n",
       "    </tr>\n",
       "    <tr>\n",
       "      <th>std</th>\n",
       "      <td>2886.89568</td>\n",
       "      <td>7.193619e+04</td>\n",
       "      <td>96.653299</td>\n",
       "      <td>10.487806</td>\n",
       "      <td>2.894723</td>\n",
       "      <td>62397.405202</td>\n",
       "      <td>0.581654</td>\n",
       "      <td>0.45584</td>\n",
       "      <td>0.499797</td>\n",
       "      <td>57510.492818</td>\n",
       "      <td>0.402769</td>\n",
       "    </tr>\n",
       "    <tr>\n",
       "      <th>min</th>\n",
       "      <td>1.00000</td>\n",
       "      <td>1.556570e+07</td>\n",
       "      <td>350.000000</td>\n",
       "      <td>18.000000</td>\n",
       "      <td>0.000000</td>\n",
       "      <td>0.000000</td>\n",
       "      <td>1.000000</td>\n",
       "      <td>0.00000</td>\n",
       "      <td>0.000000</td>\n",
       "      <td>11.580000</td>\n",
       "      <td>0.000000</td>\n",
       "    </tr>\n",
       "    <tr>\n",
       "      <th>25%</th>\n",
       "      <td>2500.75000</td>\n",
       "      <td>1.562853e+07</td>\n",
       "      <td>584.000000</td>\n",
       "      <td>32.000000</td>\n",
       "      <td>2.000000</td>\n",
       "      <td>0.000000</td>\n",
       "      <td>1.000000</td>\n",
       "      <td>0.00000</td>\n",
       "      <td>0.000000</td>\n",
       "      <td>51002.110000</td>\n",
       "      <td>0.000000</td>\n",
       "    </tr>\n",
       "    <tr>\n",
       "      <th>50%</th>\n",
       "      <td>5000.50000</td>\n",
       "      <td>1.569074e+07</td>\n",
       "      <td>652.000000</td>\n",
       "      <td>37.000000</td>\n",
       "      <td>5.000000</td>\n",
       "      <td>97198.540000</td>\n",
       "      <td>1.000000</td>\n",
       "      <td>1.00000</td>\n",
       "      <td>1.000000</td>\n",
       "      <td>100193.915000</td>\n",
       "      <td>0.000000</td>\n",
       "    </tr>\n",
       "    <tr>\n",
       "      <th>75%</th>\n",
       "      <td>7500.25000</td>\n",
       "      <td>1.575323e+07</td>\n",
       "      <td>718.000000</td>\n",
       "      <td>44.000000</td>\n",
       "      <td>7.000000</td>\n",
       "      <td>127644.240000</td>\n",
       "      <td>2.000000</td>\n",
       "      <td>1.00000</td>\n",
       "      <td>1.000000</td>\n",
       "      <td>149388.247500</td>\n",
       "      <td>0.000000</td>\n",
       "    </tr>\n",
       "    <tr>\n",
       "      <th>max</th>\n",
       "      <td>10000.00000</td>\n",
       "      <td>1.581569e+07</td>\n",
       "      <td>850.000000</td>\n",
       "      <td>92.000000</td>\n",
       "      <td>10.000000</td>\n",
       "      <td>250898.090000</td>\n",
       "      <td>4.000000</td>\n",
       "      <td>1.00000</td>\n",
       "      <td>1.000000</td>\n",
       "      <td>199992.480000</td>\n",
       "      <td>1.000000</td>\n",
       "    </tr>\n",
       "  </tbody>\n",
       "</table>\n",
       "</div>"
      ],
      "text/plain": [
       "         RowNumber    CustomerId   CreditScore           Age       Tenure  \\\n",
       "count  10000.00000  1.000000e+04  10000.000000  10000.000000  9091.000000   \n",
       "mean    5000.50000  1.569094e+07    650.528800     38.921800     4.997690   \n",
       "std     2886.89568  7.193619e+04     96.653299     10.487806     2.894723   \n",
       "min        1.00000  1.556570e+07    350.000000     18.000000     0.000000   \n",
       "25%     2500.75000  1.562853e+07    584.000000     32.000000     2.000000   \n",
       "50%     5000.50000  1.569074e+07    652.000000     37.000000     5.000000   \n",
       "75%     7500.25000  1.575323e+07    718.000000     44.000000     7.000000   \n",
       "max    10000.00000  1.581569e+07    850.000000     92.000000    10.000000   \n",
       "\n",
       "             Balance  NumOfProducts    HasCrCard  IsActiveMember  \\\n",
       "count   10000.000000   10000.000000  10000.00000    10000.000000   \n",
       "mean    76485.889288       1.530200      0.70550        0.515100   \n",
       "std     62397.405202       0.581654      0.45584        0.499797   \n",
       "min         0.000000       1.000000      0.00000        0.000000   \n",
       "25%         0.000000       1.000000      0.00000        0.000000   \n",
       "50%     97198.540000       1.000000      1.00000        1.000000   \n",
       "75%    127644.240000       2.000000      1.00000        1.000000   \n",
       "max    250898.090000       4.000000      1.00000        1.000000   \n",
       "\n",
       "       EstimatedSalary        Exited  \n",
       "count     10000.000000  10000.000000  \n",
       "mean     100090.239881      0.203700  \n",
       "std       57510.492818      0.402769  \n",
       "min          11.580000      0.000000  \n",
       "25%       51002.110000      0.000000  \n",
       "50%      100193.915000      0.000000  \n",
       "75%      149388.247500      0.000000  \n",
       "max      199992.480000      1.000000  "
      ]
     },
     "execution_count": 4,
     "metadata": {},
     "output_type": "execute_result"
    }
   ],
   "source": [
    "df.describe()"
   ]
  },
  {
   "cell_type": "code",
   "execution_count": 5,
   "metadata": {
    "scrolled": true
   },
   "outputs": [
    {
     "data": {
      "text/html": [
       "<div>\n",
       "<style scoped>\n",
       "    .dataframe tbody tr th:only-of-type {\n",
       "        vertical-align: middle;\n",
       "    }\n",
       "\n",
       "    .dataframe tbody tr th {\n",
       "        vertical-align: top;\n",
       "    }\n",
       "\n",
       "    .dataframe thead th {\n",
       "        text-align: right;\n",
       "    }\n",
       "</style>\n",
       "<table border=\"1\" class=\"dataframe\">\n",
       "  <thead>\n",
       "    <tr style=\"text-align: right;\">\n",
       "      <th></th>\n",
       "      <th>RowNumber</th>\n",
       "      <th>CustomerId</th>\n",
       "      <th>Surname</th>\n",
       "      <th>CreditScore</th>\n",
       "      <th>Geography</th>\n",
       "      <th>Gender</th>\n",
       "      <th>Age</th>\n",
       "      <th>Tenure</th>\n",
       "      <th>Balance</th>\n",
       "      <th>NumOfProducts</th>\n",
       "      <th>HasCrCard</th>\n",
       "      <th>IsActiveMember</th>\n",
       "      <th>EstimatedSalary</th>\n",
       "      <th>Exited</th>\n",
       "    </tr>\n",
       "  </thead>\n",
       "  <tbody>\n",
       "    <tr>\n",
       "      <th>0</th>\n",
       "      <td>1</td>\n",
       "      <td>15634602</td>\n",
       "      <td>Hargrave</td>\n",
       "      <td>619</td>\n",
       "      <td>France</td>\n",
       "      <td>Female</td>\n",
       "      <td>42</td>\n",
       "      <td>2.0</td>\n",
       "      <td>0.00</td>\n",
       "      <td>1</td>\n",
       "      <td>1</td>\n",
       "      <td>1</td>\n",
       "      <td>101348.88</td>\n",
       "      <td>1</td>\n",
       "    </tr>\n",
       "    <tr>\n",
       "      <th>1</th>\n",
       "      <td>2</td>\n",
       "      <td>15647311</td>\n",
       "      <td>Hill</td>\n",
       "      <td>608</td>\n",
       "      <td>Spain</td>\n",
       "      <td>Female</td>\n",
       "      <td>41</td>\n",
       "      <td>1.0</td>\n",
       "      <td>83807.86</td>\n",
       "      <td>1</td>\n",
       "      <td>0</td>\n",
       "      <td>1</td>\n",
       "      <td>112542.58</td>\n",
       "      <td>0</td>\n",
       "    </tr>\n",
       "    <tr>\n",
       "      <th>2</th>\n",
       "      <td>3</td>\n",
       "      <td>15619304</td>\n",
       "      <td>Onio</td>\n",
       "      <td>502</td>\n",
       "      <td>France</td>\n",
       "      <td>Female</td>\n",
       "      <td>42</td>\n",
       "      <td>8.0</td>\n",
       "      <td>159660.80</td>\n",
       "      <td>3</td>\n",
       "      <td>1</td>\n",
       "      <td>0</td>\n",
       "      <td>113931.57</td>\n",
       "      <td>1</td>\n",
       "    </tr>\n",
       "    <tr>\n",
       "      <th>3</th>\n",
       "      <td>4</td>\n",
       "      <td>15701354</td>\n",
       "      <td>Boni</td>\n",
       "      <td>699</td>\n",
       "      <td>France</td>\n",
       "      <td>Female</td>\n",
       "      <td>39</td>\n",
       "      <td>1.0</td>\n",
       "      <td>0.00</td>\n",
       "      <td>2</td>\n",
       "      <td>0</td>\n",
       "      <td>0</td>\n",
       "      <td>93826.63</td>\n",
       "      <td>0</td>\n",
       "    </tr>\n",
       "    <tr>\n",
       "      <th>4</th>\n",
       "      <td>5</td>\n",
       "      <td>15737888</td>\n",
       "      <td>Mitchell</td>\n",
       "      <td>850</td>\n",
       "      <td>Spain</td>\n",
       "      <td>Female</td>\n",
       "      <td>43</td>\n",
       "      <td>2.0</td>\n",
       "      <td>125510.82</td>\n",
       "      <td>1</td>\n",
       "      <td>1</td>\n",
       "      <td>1</td>\n",
       "      <td>79084.10</td>\n",
       "      <td>0</td>\n",
       "    </tr>\n",
       "  </tbody>\n",
       "</table>\n",
       "</div>"
      ],
      "text/plain": [
       "   RowNumber  CustomerId   Surname  CreditScore Geography  Gender  Age  \\\n",
       "0          1    15634602  Hargrave          619    France  Female   42   \n",
       "1          2    15647311      Hill          608     Spain  Female   41   \n",
       "2          3    15619304      Onio          502    France  Female   42   \n",
       "3          4    15701354      Boni          699    France  Female   39   \n",
       "4          5    15737888  Mitchell          850     Spain  Female   43   \n",
       "\n",
       "   Tenure    Balance  NumOfProducts  HasCrCard  IsActiveMember  \\\n",
       "0     2.0       0.00              1          1               1   \n",
       "1     1.0   83807.86              1          0               1   \n",
       "2     8.0  159660.80              3          1               0   \n",
       "3     1.0       0.00              2          0               0   \n",
       "4     2.0  125510.82              1          1               1   \n",
       "\n",
       "   EstimatedSalary  Exited  \n",
       "0        101348.88       1  \n",
       "1        112542.58       0  \n",
       "2        113931.57       1  \n",
       "3         93826.63       0  \n",
       "4         79084.10       0  "
      ]
     },
     "execution_count": 5,
     "metadata": {},
     "output_type": "execute_result"
    }
   ],
   "source": [
    "df.head()"
   ]
  },
  {
   "cell_type": "markdown",
   "metadata": {},
   "source": [
    "**Проведем предобработку данных**"
   ]
  },
  {
   "cell_type": "code",
   "execution_count": 6,
   "metadata": {},
   "outputs": [
    {
     "name": "stdout",
     "output_type": "stream",
     "text": [
      "<class 'pandas.core.frame.DataFrame'>\n",
      "RangeIndex: 10000 entries, 0 to 9999\n",
      "Data columns (total 14 columns):\n",
      " #   Column           Non-Null Count  Dtype  \n",
      "---  ------           --------------  -----  \n",
      " 0   rownumber        10000 non-null  int64  \n",
      " 1   customerid       10000 non-null  int64  \n",
      " 2   surname          10000 non-null  object \n",
      " 3   creditscore      10000 non-null  int64  \n",
      " 4   geography        10000 non-null  object \n",
      " 5   gender           10000 non-null  object \n",
      " 6   age              10000 non-null  int64  \n",
      " 7   tenure           9091 non-null   float64\n",
      " 8   balance          10000 non-null  float64\n",
      " 9   numofproducts    10000 non-null  int64  \n",
      " 10  hascrcard        10000 non-null  int64  \n",
      " 11  isactivemember   10000 non-null  int64  \n",
      " 12  estimatedsalary  10000 non-null  float64\n",
      " 13  exited           10000 non-null  int64  \n",
      "dtypes: float64(3), int64(8), object(3)\n",
      "memory usage: 1.1+ MB\n"
     ]
    }
   ],
   "source": [
    "#приведем названия столбцов нижнему регистру для упрощения работы\n",
    "df.reset_index(drop=True, inplace=True)\n",
    "df.columns = [col.lower() for col in df.columns]\n",
    "df.info()"
   ]
  },
  {
   "cell_type": "code",
   "execution_count": 7,
   "metadata": {
    "scrolled": true
   },
   "outputs": [
    {
     "data": {
      "text/plain": [
       "rownumber            0\n",
       "customerid           0\n",
       "surname              0\n",
       "creditscore          0\n",
       "geography            0\n",
       "gender               0\n",
       "age                  0\n",
       "tenure             909\n",
       "balance              0\n",
       "numofproducts        0\n",
       "hascrcard            0\n",
       "isactivemember       0\n",
       "estimatedsalary      0\n",
       "exited               0\n",
       "dtype: int64"
      ]
     },
     "execution_count": 7,
     "metadata": {},
     "output_type": "execute_result"
    }
   ],
   "source": [
    "df.isna().sum()\n",
    "#Смотрим долю пропусков"
   ]
  },
  {
   "cell_type": "markdown",
   "metadata": {},
   "source": [
    "В столбце 909 пропусков. Это может означать, допустм, что клиент пользуется банком менее года. Думаю их можно заменить 0"
   ]
  },
  {
   "cell_type": "code",
   "execution_count": 8,
   "metadata": {},
   "outputs": [],
   "source": [
    "median = df['tenure'].median()\n",
    "\n",
    "df['tenure'] = df['tenure'].fillna(median)"
   ]
  },
  {
   "cell_type": "code",
   "execution_count": 9,
   "metadata": {},
   "outputs": [
    {
     "data": {
      "text/plain": [
       "rownumber          0\n",
       "customerid         0\n",
       "surname            0\n",
       "creditscore        0\n",
       "geography          0\n",
       "gender             0\n",
       "age                0\n",
       "tenure             0\n",
       "balance            0\n",
       "numofproducts      0\n",
       "hascrcard          0\n",
       "isactivemember     0\n",
       "estimatedsalary    0\n",
       "exited             0\n",
       "dtype: int64"
      ]
     },
     "execution_count": 9,
     "metadata": {},
     "output_type": "execute_result"
    }
   ],
   "source": [
    "#проверим снова наличие пропусков теперь\n",
    "df.isna().sum()"
   ]
  },
  {
   "cell_type": "code",
   "execution_count": 10,
   "metadata": {},
   "outputs": [
    {
     "data": {
      "text/plain": [
       "0"
      ]
     },
     "execution_count": 10,
     "metadata": {},
     "output_type": "execute_result"
    }
   ],
   "source": [
    "#проверим наличие явных дубликатов\n",
    "df.duplicated().sum()"
   ]
  },
  {
   "cell_type": "markdown",
   "metadata": {},
   "source": [
    "Явных дубликатов нет"
   ]
  },
  {
   "cell_type": "code",
   "execution_count": 11,
   "metadata": {},
   "outputs": [],
   "source": [
    "#Удалим ненужные столбцы\n",
    "df = df.drop(['rownumber', 'customerid', 'surname'], axis=1)        "
   ]
  },
  {
   "cell_type": "code",
   "execution_count": 12,
   "metadata": {},
   "outputs": [
    {
     "name": "stdout",
     "output_type": "stream",
     "text": [
      "<class 'pandas.core.frame.DataFrame'>\n",
      "RangeIndex: 10000 entries, 0 to 9999\n",
      "Data columns (total 11 columns):\n",
      " #   Column           Non-Null Count  Dtype  \n",
      "---  ------           --------------  -----  \n",
      " 0   creditscore      10000 non-null  int64  \n",
      " 1   geography        10000 non-null  object \n",
      " 2   gender           10000 non-null  object \n",
      " 3   age              10000 non-null  int64  \n",
      " 4   tenure           10000 non-null  float64\n",
      " 5   balance          10000 non-null  float64\n",
      " 6   numofproducts    10000 non-null  int64  \n",
      " 7   hascrcard        10000 non-null  int64  \n",
      " 8   isactivemember   10000 non-null  int64  \n",
      " 9   estimatedsalary  10000 non-null  float64\n",
      " 10  exited           10000 non-null  int64  \n",
      "dtypes: float64(3), int64(6), object(2)\n",
      "memory usage: 859.5+ KB\n"
     ]
    }
   ],
   "source": [
    "df.info()"
   ]
  },
  {
   "cell_type": "markdown",
   "metadata": {},
   "source": [
    "**Вывод:**\n",
    "Данные были изучены, имеющиеся в них пропуски удалены, все названия столбцов приведены к нижнему регистру и ненужные колонки тоже удалены\n",
    "\n",
    "Можно приступать к работе с данными"
   ]
  },
  {
   "cell_type": "markdown",
   "metadata": {},
   "source": [
    "## Исследование задачи"
   ]
  },
  {
   "cell_type": "markdown",
   "metadata": {},
   "source": [
    "### Исследование баланса классовов"
   ]
  },
  {
   "cell_type": "markdown",
   "metadata": {},
   "source": [
    "Посчитаем количество оставшихся клиентов(\"0\") и ушедших(\"1\")"
   ]
  },
  {
   "cell_type": "code",
   "execution_count": 13,
   "metadata": {},
   "outputs": [
    {
     "data": {
      "text/plain": [
       "0    7963\n",
       "1    2037\n",
       "Name: exited, dtype: int64"
      ]
     },
     "execution_count": 13,
     "metadata": {},
     "output_type": "execute_result"
    }
   ],
   "source": [
    "class_count = df['exited'].value_counts()\n",
    "class_count"
   ]
  },
  {
   "cell_type": "markdown",
   "metadata": {},
   "source": [
    "Изобразим на графике для визуализации"
   ]
  },
  {
   "cell_type": "code",
   "execution_count": 14,
   "metadata": {},
   "outputs": [
    {
     "data": {
      "image/png": "[encoded data removed]",
      "text/plain": [
       "<Figure size 432x288 with 1 Axes>"
      ]
     },
     "metadata": {
      "needs_background": "light"
     },
     "output_type": "display_data"
    }
   ],
   "source": [
    "class_count.plot(kind='bar')\n",
    "plt.title('Дисбаланс классов')\n",
    "plt.show()"
   ]
  },
  {
   "cell_type": "markdown",
   "metadata": {},
   "source": [
    "### Изучение моделей без учёта дисбаланса"
   ]
  },
  {
   "cell_type": "markdown",
   "metadata": {},
   "source": [
    "Разделим данные на целевое значении и признаки"
   ]
  },
  {
   "cell_type": "code",
   "execution_count": 15,
   "metadata": {},
   "outputs": [],
   "source": [
    "#Выполним преобразование категориальных признаков в числовые(OneHotEncoder)\n",
    "data = pd.get_dummies(df, drop_first=True)\n",
    "#разделим данные на целевое значении и признаки\n",
    "features = data.drop(['exited'], axis=1) #признаки\n",
    "target = data['exited']#целевое значение\n"
   ]
  },
  {
   "cell_type": "code",
   "execution_count": 16,
   "metadata": {},
   "outputs": [
    {
     "data": {
      "text/html": [
       "<div>\n",
       "<style scoped>\n",
       "    .dataframe tbody tr th:only-of-type {\n",
       "        vertical-align: middle;\n",
       "    }\n",
       "\n",
       "    .dataframe tbody tr th {\n",
       "        vertical-align: top;\n",
       "    }\n",
       "\n",
       "    .dataframe thead th {\n",
       "        text-align: right;\n",
       "    }\n",
       "</style>\n",
       "<table border=\"1\" class=\"dataframe\">\n",
       "  <thead>\n",
       "    <tr style=\"text-align: right;\">\n",
       "      <th></th>\n",
       "      <th>creditscore</th>\n",
       "      <th>age</th>\n",
       "      <th>tenure</th>\n",
       "      <th>balance</th>\n",
       "      <th>numofproducts</th>\n",
       "      <th>hascrcard</th>\n",
       "      <th>isactivemember</th>\n",
       "      <th>estimatedsalary</th>\n",
       "      <th>geography_Germany</th>\n",
       "      <th>geography_Spain</th>\n",
       "      <th>gender_Male</th>\n",
       "    </tr>\n",
       "  </thead>\n",
       "  <tbody>\n",
       "    <tr>\n",
       "      <th>0</th>\n",
       "      <td>619</td>\n",
       "      <td>42</td>\n",
       "      <td>2.0</td>\n",
       "      <td>0.00</td>\n",
       "      <td>1</td>\n",
       "      <td>1</td>\n",
       "      <td>1</td>\n",
       "      <td>101348.88</td>\n",
       "      <td>0</td>\n",
       "      <td>0</td>\n",
       "      <td>0</td>\n",
       "    </tr>\n",
       "    <tr>\n",
       "      <th>1</th>\n",
       "      <td>608</td>\n",
       "      <td>41</td>\n",
       "      <td>1.0</td>\n",
       "      <td>83807.86</td>\n",
       "      <td>1</td>\n",
       "      <td>0</td>\n",
       "      <td>1</td>\n",
       "      <td>112542.58</td>\n",
       "      <td>0</td>\n",
       "      <td>1</td>\n",
       "      <td>0</td>\n",
       "    </tr>\n",
       "  </tbody>\n",
       "</table>\n",
       "</div>"
      ],
      "text/plain": [
       "   creditscore  age  tenure   balance  numofproducts  hascrcard  \\\n",
       "0          619   42     2.0      0.00              1          1   \n",
       "1          608   41     1.0  83807.86              1          0   \n",
       "\n",
       "   isactivemember  estimatedsalary  geography_Germany  geography_Spain  \\\n",
       "0               1        101348.88                  0                0   \n",
       "1               1        112542.58                  0                1   \n",
       "\n",
       "   gender_Male  \n",
       "0            0  \n",
       "1            0  "
      ]
     },
     "execution_count": 16,
     "metadata": {},
     "output_type": "execute_result"
    }
   ],
   "source": [
    "# код ревьюера\n",
    "features.head(2)"
   ]
  },
  {
   "cell_type": "markdown",
   "metadata": {},
   "source": [
    "Разделим исходные данные на обучающую, валидационную и тестовую выборки"
   ]
  },
  {
   "cell_type": "code",
   "execution_count": 17,
   "metadata": {},
   "outputs": [],
   "source": [
    "features_trainvalid, features_test, target_trainvalid, target_test = train_test_split(\n",
    "    features, target, test_size=0.2, random_state=12345)\n",
    "# Сначала исходные данные разбили на две выборки - объединенную обучающую и валидационную выборки \n",
    "features_train, features_valid, target_train, target_valid = train_test_split(\n",
    "    features_trainvalid, target_trainvalid, test_size=0.25, random_state=12345)\n"
   ]
  },
  {
   "cell_type": "code",
   "execution_count": 18,
   "metadata": {},
   "outputs": [],
   "source": [
    "pd.options.mode.chained_assignment = None\n",
    "# Измененяем масштабы значений признаков\n",
    "cols=['creditscore','age','tenure','balance','numofproducts','hascrcard','isactivemember', 'estimatedsalary']\n",
    "\n",
    "scaler=StandardScaler()\n",
    "\n",
    "scaler.fit(features_train[cols])\n",
    "features_train[cols] = scaler.transform(features_train[cols])\n",
    "features_valid[cols] = scaler.transform(features_valid[cols])\n",
    "features_test[cols] = scaler.transform(features_test[cols])\n"
   ]
  },
  {
   "cell_type": "markdown",
   "metadata": {},
   "source": [
    "#### Дерево решений\n"
   ]
  },
  {
   "cell_type": "markdown",
   "metadata": {},
   "source": [
    "С помощью цикла подберем лучший гиперпараметр max_depth"
   ]
  },
  {
   "cell_type": "code",
   "execution_count": 19,
   "metadata": {},
   "outputs": [
    {
     "name": "stdout",
     "output_type": "stream",
     "text": [
      "F1-мера и AUC-ROC лучшей модели: 0.8232894805678559\n",
      "Максимальная глубина: 10\n",
      "Площадь ROC-кривой на тестовой выборке: 0.7518457697295254\n"
     ]
    }
   ],
   "source": [
    "best_model_dt = None\n",
    "best_result_dt = 0\n",
    "\n",
    "for depth in range(1, 11):\n",
    "    model = DecisionTreeClassifier(random_state=12345, max_depth=depth) \n",
    "    model.fit(features_train, target_train)\n",
    "    predictions = model.predict(features_train)\n",
    "    probabilities = model.predict_proba(features_train)\n",
    "    f1 = f1_score(target_train, predictions)\n",
    "    roc_auc = roc_auc_score(target_train, probabilities[:, 1])\n",
    "    score = 0.6 * f1 + 0.4 * roc_auc # сочетаем метрики с учетом весов\n",
    "    if score > best_result_dt:\n",
    "        best_model_dt = model\n",
    "        best_result_dt = score\n",
    "\n",
    "print(\"F1-мера и AUC-ROC лучшей модели:\", best_result_dt)\n",
    "print(\"Максимальная глубина:\", best_model_dt.max_depth)\n",
    "\n",
    "probabilities_dt = best_model_dt.predict_proba(features_test)\n",
    "probabilities_one_dt = probabilities_dt[:, 1]\n",
    "print('Площадь ROC-кривой на тестовой выборке:', roc_auc_score(target_test, probabilities_one_dt))\n"
   ]
  },
  {
   "cell_type": "markdown",
   "metadata": {},
   "source": [
    "#### Случайный лес"
   ]
  },
  {
   "cell_type": "markdown",
   "metadata": {},
   "source": [
    "С помощью цикла подберем лучший гиперпараметр n_estimators"
   ]
  },
  {
   "cell_type": "code",
   "execution_count": 20,
   "metadata": {},
   "outputs": [
    {
     "name": "stdout",
     "output_type": "stream",
     "text": [
      "F1-мера и AUC-ROC лучшей модели: 0.9997537956503898\n",
      "Количество деревьев: 49\n",
      "Площадь ROC-кривой на тестовой выборке: 0.8558967113363536\n"
     ]
    }
   ],
   "source": [
    "best_model_rfc  = None\n",
    "best_result_rfc = 0\n",
    "\n",
    "for est in range(1, 50, 2):\n",
    "    model = RandomForestClassifier(random_state=12345, n_estimators=est, class_weight=None)\n",
    "    model.fit(features_train, target_train)\n",
    "    predictions = model.predict(features_train)\n",
    "    probabilities = model.predict_proba(features_train)\n",
    "    f1 = f1_score(target_train, predictions)\n",
    "    roc_auc = roc_auc_score(target_train, probabilities[:, 1])\n",
    "    score = 0.6 * f1 + 0.4 * roc_auc # сочетаем метрики с учетом весов\n",
    "    if score > best_result_rfc:\n",
    "        best_model_rfc = model\n",
    "        best_result_rfc = score\n",
    "        best_est_rfc = est\n",
    "\n",
    "print(\"F1-мера и AUC-ROC лучшей модели:\", best_result_rfc)\n",
    "print(\"Количество деревьев:\", best_est_rfc)\n",
    "\n",
    "probabilities_rfc = best_model_rfc.predict_proba(features_test)\n",
    "probabilities_one_rfc = probabilities_rfc[:, 1]\n",
    "print('Площадь ROC-кривой на тестовой выборке:', roc_auc_score(target_test, probabilities_one_rfc))\n"
   ]
  },
  {
   "cell_type": "markdown",
   "metadata": {},
   "source": [
    "#### Логистическая регрессия"
   ]
  },
  {
   "cell_type": "markdown",
   "metadata": {},
   "source": [
    "Установим solver='liblinear', max_iter=1000"
   ]
  },
  {
   "cell_type": "code",
   "execution_count": 21,
   "metadata": {},
   "outputs": [
    {
     "name": "stdout",
     "output_type": "stream",
     "text": [
      "Accuracy наилучшей модели на валидационной выборке: 0.8145\n",
      "Площадь ROC-кривой на тренировочной выборке: 0.7678599954461525\n"
     ]
    }
   ],
   "source": [
    "model_lr = LogisticRegression(random_state=12345, solver='liblinear', max_iter=1000)\n",
    "model_lr.fit(features_train, target_train)\n",
    "prediction_valid_lr = model_lr.predict(features_valid)\n",
    "accuracy_lr = accuracy_score(prediction_valid_lr, target_valid)\n",
    "\n",
    "print(\"Accuracy наилучшей модели на валидационной выборке:\", accuracy_lr)\n",
    "\n",
    "probabilities_lr = model_lr.predict_proba(features_train)\n",
    "probabilities_one_lr = probabilities_lr[:, 1]\n",
    "print('Площадь ROC-кривой на тренировочной выборке:', roc_auc_score(target_train, probabilities_one_lr))\n"
   ]
  },
  {
   "cell_type": "markdown",
   "metadata": {},
   "source": [
    "###  Вывод:"
   ]
  },
  {
   "cell_type": "markdown",
   "metadata": {},
   "source": [
    "Наилучшими гиперпараметрами являются: \n",
    "1. DesicionTreeClassifier при depth = 10, \n",
    "2. RandomForestClassifier при n_estimators = 49, \n",
    "3. LogisticRegression при solver = 'liblinear', max_iter = 1000 "
   ]
  },
  {
   "cell_type": "markdown",
   "metadata": {},
   "source": [
    "## Борьба с дисбалансом"
   ]
  },
  {
   "cell_type": "markdown",
   "metadata": {},
   "source": [
    "**Увеличение выборки (oversampling)**"
   ]
  },
  {
   "cell_type": "code",
   "execution_count": 22,
   "metadata": {},
   "outputs": [],
   "source": [
    "def upsample(features, target, repeat):\n",
    "    features_zeros = features[target == 0]\n",
    "    features_ones = features[target == 1]\n",
    "    target_zeros = target[target == 0]\n",
    "    target_ones = target[target == 1]\n",
    "\n",
    "    features_ones_upsampled = features_ones.sample(\n",
    "        n=repeat*len(features_zeros), replace=True, random_state=12345)\n",
    "    target_ones_upsampled = target_ones.sample(\n",
    "        n=repeat*len(target_zeros), replace=True, random_state=12345)\n",
    "    \n",
    "    features_upsampled = pd.concat(\n",
    "        [features_zeros] + [features_ones_upsampled])\n",
    "    target_upsampled = pd.concat(\n",
    "        [target_zeros] + [target_ones_upsampled])\n",
    "    \n",
    "    features_upsampled, target_upsampled = shuffle(\n",
    "        features_upsampled, target_upsampled, random_state=12345)\n",
    "    \n",
    "    return features_upsampled, target_upsampled\n",
    "\n",
    "features_upsampled, target_upsampled = upsample(features_train, target_train, 4)"
   ]
  },
  {
   "cell_type": "markdown",
   "metadata": {},
   "source": [
    "**Уменьшение выборки (undersampling)**"
   ]
  },
  {
   "cell_type": "code",
   "execution_count": 23,
   "metadata": {},
   "outputs": [],
   "source": [
    "def downsample(features, target, fraction):\n",
    "    features_zeros = features[target == 0]\n",
    "    features_ones = features[target == 1]\n",
    "    target_zeros = target[target == 0]\n",
    "    target_ones = target[target == 1]\n",
    "\n",
    "    features_zeros_downsampled, target_zeros_downsampled = shuffle(\n",
    "        features_zeros, target_zeros, random_state=12345)\n",
    "    features_ones_downsampled, target_ones_downsampled = shuffle(\n",
    "        features_ones, target_ones, random_state=12345)\n",
    "    \n",
    "    features_downsampled = pd.concat(\n",
    "        [features_zeros_downsampled[:int(len(features_zeros)*fraction)]] + [features_ones_downsampled])\n",
    "    target_downsampled = pd.concat(\n",
    "        [target_zeros_downsampled[:int(len(target_zeros)*fraction)]] + [target_ones_downsampled])\n",
    "    \n",
    "    features_downsampled, target_downsampled = shuffle(\n",
    "        features_downsampled, target_downsampled, random_state=12345)\n",
    "    \n",
    "    return features_downsampled, target_downsampled\n",
    "\n",
    "features_downsampled, target_downsampled = downsample(features_train, target_train, 0.25)"
   ]
  },
  {
   "cell_type": "markdown",
   "metadata": {},
   "source": [
    "### LogisticRegression"
   ]
  },
  {
   "cell_type": "markdown",
   "metadata": {},
   "source": [
    "#### Увеличение выборки (oversampling)"
   ]
  },
  {
   "cell_type": "code",
   "execution_count": 24,
   "metadata": {},
   "outputs": [
    {
     "name": "stdout",
     "output_type": "stream",
     "text": [
      "F1: 0.36671504596032894\n"
     ]
    }
   ],
   "source": [
    "model_lr_os = LogisticRegression(random_state=12345, solver='liblinear', max_iter=1000)\n",
    "model_lr_os.fit(features_upsampled, target_upsampled)\n",
    "\n",
    "\n",
    "predicted_valid_lr_os = model_lr_os.predict(features_valid)\n",
    "\n",
    "\n",
    "print(\"F1:\", f1_score(target_valid, predicted_valid_lr_os))\n"
   ]
  },
  {
   "cell_type": "markdown",
   "metadata": {},
   "source": [
    "#### Уменьшение выборки (undersampling)"
   ]
  },
  {
   "cell_type": "code",
   "execution_count": 25,
   "metadata": {
    "scrolled": false
   },
   "outputs": [
    {
     "name": "stdout",
     "output_type": "stream",
     "text": [
      "F1: 0.4750219106047327\n"
     ]
    }
   ],
   "source": [
    "model_lr_us = LogisticRegression(random_state=12345, solver='liblinear', max_iter=1000)\n",
    "model_lr_us.fit(features_downsampled, target_downsampled)\n",
    "\n",
    "predicted_valid_lr_us = model_lr_us.predict(features_valid)\n",
    "\n",
    "print(\"F1:\", f1_score(target_valid, predicted_valid_lr_us))\n"
   ]
  },
  {
   "cell_type": "markdown",
   "metadata": {},
   "source": [
    "Не знаю почему F1  получился одинаковый, используя разные методы. Я пыталась добиться и разных значений, меняя параметры и тп, но все равно он одинаковый. Надеюсь это не ошибка"
   ]
  },
  {
   "cell_type": "markdown",
   "metadata": {},
   "source": [
    "#### Взвешивание классов"
   ]
  },
  {
   "cell_type": "code",
   "execution_count": 26,
   "metadata": {},
   "outputs": [
    {
     "name": "stdout",
     "output_type": "stream",
     "text": [
      "F1: 0.4750889679715302\n"
     ]
    }
   ],
   "source": [
    "model_lr_w = LogisticRegression(random_state=12345, solver='liblinear', max_iter=1000, class_weight='balanced')\n",
    "model_lr_w.fit(features_train, target_train)\n",
    "predicted_valid_w = model_lr_w.predict(features_valid)\n",
    "print(\"F1:\", f1_score(target_valid, predicted_valid_w))"
   ]
  },
  {
   "cell_type": "markdown",
   "metadata": {},
   "source": [
    "### RandomForestClassifier"
   ]
  },
  {
   "cell_type": "markdown",
   "metadata": {},
   "source": [
    "#### Увеличение выборки (oversampling)"
   ]
  },
  {
   "cell_type": "code",
   "execution_count": 27,
   "metadata": {},
   "outputs": [
    {
     "name": "stdout",
     "output_type": "stream",
     "text": [
      "F1: 0.5710267229254572\n"
     ]
    }
   ],
   "source": [
    "model_rfc_os = RandomForestClassifier(random_state=12345, n_estimators=49)\n",
    "model_rfc_os.fit(features_upsampled, target_upsampled)\n",
    "\n",
    "predicted_valid_rfc_os = model_rfc_os.predict(features_valid)\n",
    "\n",
    "print(\"F1:\", f1_score(target_valid, predicted_valid_rfc_os))"
   ]
  },
  {
   "cell_type": "markdown",
   "metadata": {},
   "source": [
    "#### Уменьшение выборки (undersampling)"
   ]
  },
  {
   "cell_type": "code",
   "execution_count": 28,
   "metadata": {},
   "outputs": [
    {
     "name": "stdout",
     "output_type": "stream",
     "text": [
      "F1: 0.5417439703153989\n"
     ]
    }
   ],
   "source": [
    "model_rfc_us = RandomForestClassifier(n_estimators=49, random_state=12345)\n",
    "model_rfc_us.fit(features_downsampled, target_downsampled)\n",
    "\n",
    "predicted_valid_rfc_us = model_rfc_us.predict(features_valid)\n",
    "\n",
    "print(\"F1:\", f1_score(target_valid, predicted_valid_rfc_us))\n",
    "\n"
   ]
  },
  {
   "cell_type": "markdown",
   "metadata": {},
   "source": [
    "#### Взвешивание классов"
   ]
  },
  {
   "cell_type": "code",
   "execution_count": 29,
   "metadata": {},
   "outputs": [
    {
     "name": "stdout",
     "output_type": "stream",
     "text": [
      "F1: 0.5469255663430421\n"
     ]
    }
   ],
   "source": [
    "model_rfc_w = RandomForestClassifier(random_state=12345, class_weight='balanced')\n",
    "model_rfc_w.fit(features_train, target_train)\n",
    "\n",
    "\n",
    "predicted_valid_rfc_w = model_rfc_w.predict(features_valid)\n",
    "\n",
    "print(\"F1:\", f1_score(target_valid, predicted_valid_rfc_w))"
   ]
  },
  {
   "cell_type": "markdown",
   "metadata": {},
   "source": [
    "### DesicionTreeClassifier"
   ]
  },
  {
   "cell_type": "markdown",
   "metadata": {},
   "source": [
    "#### Увеличение выборки (oversampling)"
   ]
  },
  {
   "cell_type": "code",
   "execution_count": 30,
   "metadata": {},
   "outputs": [
    {
     "name": "stdout",
     "output_type": "stream",
     "text": [
      "F1: 0.4567627494456763\n"
     ]
    }
   ],
   "source": [
    "model_dtc_os = DecisionTreeClassifier(random_state=12345, max_depth = 10)\n",
    "model_dtc_os.fit(features_upsampled, target_upsampled)\n",
    "\n",
    "predicted_valid_dtc_os = model_dtc_os.predict(features_valid)\n",
    "\n",
    "print(\"F1:\", f1_score(target_valid, predicted_valid_dtc_os))"
   ]
  },
  {
   "cell_type": "markdown",
   "metadata": {},
   "source": [
    "#### Уменьшение выборки (undersampling)"
   ]
  },
  {
   "cell_type": "code",
   "execution_count": 31,
   "metadata": {},
   "outputs": [
    {
     "name": "stdout",
     "output_type": "stream",
     "text": [
      "F1-score: 0.4567627494456763\n"
     ]
    }
   ],
   "source": [
    "model_dtc_us = DecisionTreeClassifier(random_state=12345,  max_depth = 10)\n",
    "model_dtc_us.fit(features_downsampled, target_downsampled)\n",
    "\n",
    "predicted_valid_dtc_us = model_dtc_us.predict(features_valid)\n",
    "\n",
    "\n",
    "print(\"F1-score:\", f1_score(target_valid, predicted_valid_dtc_os))"
   ]
  },
  {
   "cell_type": "markdown",
   "metadata": {},
   "source": [
    "#### Взвешивание классов"
   ]
  },
  {
   "cell_type": "code",
   "execution_count": 32,
   "metadata": {},
   "outputs": [
    {
     "name": "stdout",
     "output_type": "stream",
     "text": [
      "F1: 0.4708926261319535\n"
     ]
    }
   ],
   "source": [
    "model_dtc_w = DecisionTreeClassifier(random_state=12345, class_weight='balanced')\n",
    "model_dtc_w.fit(features_train, target_train)\n",
    "\n",
    "predicted_valid_dtc_w = model_dtc_w.predict(features_valid)\n",
    "\n",
    "print(\"F1:\", f1_score(target_valid, predicted_valid_dtc_w))"
   ]
  },
  {
   "cell_type": "markdown",
   "metadata": {},
   "source": [
    "### Вывод:"
   ]
  },
  {
   "cell_type": "markdown",
   "metadata": {},
   "source": [
    "Мы обучили модели, сбалансировав классы путем увеличения и уменьшения выборок и взвешивания классов:\n",
    "1. Лучший способ для LogisticRegression - Взвешивание классов\n",
    "2. Лучший способ для RandomForestClassifier - Увеличение выборки\n",
    "3. Лучший способ для DesicionTreeClassifier - Взвешивание классов\n",
    "\n",
    "Наша лучшая модель - увеличение выборки RandomForestClassifier(F1: 0.5710267229254572) "
   ]
  },
  {
   "cell_type": "markdown",
   "metadata": {},
   "source": [
    "## Тестирование модели"
   ]
  },
  {
   "cell_type": "markdown",
   "metadata": {},
   "source": [
    "*Для тестирования моделей используем наиболее подходящие способы балансировки классов для каждой модели*"
   ]
  },
  {
   "cell_type": "markdown",
   "metadata": {},
   "source": [
    "### Проверим модель логистической регрессии на тестовой выборке"
   ]
  },
  {
   "cell_type": "code",
   "execution_count": 33,
   "metadata": {},
   "outputs": [
    {
     "data": {
      "image/png": "[encoded data removed]",
      "text/plain": [
       "<Figure size 576x576 with 1 Axes>"
      ]
     },
     "metadata": {
      "needs_background": "light"
     },
     "output_type": "display_data"
    },
    {
     "name": "stdout",
     "output_type": "stream",
     "text": [
      "F1 на тестовой выборке: 0.5016778523489932\n",
      "AUC-ROC на тестовой выборке: 0.7637727399277325\n"
     ]
    }
   ],
   "source": [
    "# Оценка модели на тестовой выборке\n",
    "predicted_test_lr_w = model_lr_w.predict(features_test)\n",
    "probabilities_test_lr_w = model_lr_w.predict_proba(features_test)\n",
    "probabilities_one_test_lr_w = probabilities_test_lr_w[:, 1]\n",
    "auc_roc_lr_w = roc_auc_score(target_test, probabilities_one_test_lr_w)\n",
    "f1_test_lr_w = f1_score(target_test, predicted_test_lr_w)\n",
    "\n",
    "# Построение ROC-кривой\n",
    "fpr, tpr, thresholds = roc_curve(target_test, probabilities_one_test_lr_w)\n",
    "\n",
    "plt.figure(figsize=(8, 8))\n",
    "plt.plot(fpr, tpr)\n",
    "plt.plot([0, 1], [0, 1], linestyle='--')\n",
    "plt.xlim([0.0, 1.0])\n",
    "plt.ylim([0.0, 1.0])\n",
    "plt.xlabel('False Positive Rate')\n",
    "plt.ylabel('True Positive Rate')\n",
    "plt.title('ROC-кривая')\n",
    "plt.show()\n",
    "\n",
    "print(\"F1 на тестовой выборке:\", f1_test_lr_w)\n",
    "print(\"AUC-ROC на тестовой выборке:\", auc_roc_lr_w)\n"
   ]
  },
  {
   "cell_type": "markdown",
   "metadata": {},
   "source": [
    "### Проверим модель DesicionTreeClassifier на тестовой выборке "
   ]
  },
  {
   "cell_type": "code",
   "execution_count": 36,
   "metadata": {},
   "outputs": [
    {
     "data": {
      "image/png": "[encoded data removed]",
      "text/plain": [
       "<Figure size 576x576 with 1 Axes>"
      ]
     },
     "metadata": {
      "needs_background": "light"
     },
     "output_type": "display_data"
    },
    {
     "name": "stdout",
     "output_type": "stream",
     "text": [
      "F1 на тестовой выборке: 0.509090909090909\n",
      "AUC-ROC на тестовой выборке: 0.6861432159494754\n"
     ]
    }
   ],
   "source": [
    "# Оценка модели на тестовой выборке\n",
    "predicted_test_dtc_w = model_dtc_w.predict(features_test)\n",
    "probabilities_test_dtc_w = model_dtc_w.predict_proba(features_test)\n",
    "probabilities_one_test_dtc_w = probabilities_test_dtc_w[:, 1]\n",
    "auc_roc_dtc_w = roc_auc_score(target_test, probabilities_one_test_dtc_w)\n",
    "f1_test_dtc_w = f1_score(target_test, predicted_test_dtc_w)\n",
    "\n",
    "# Построение ROC-кривой\n",
    "fpr, tpr, thresholds = roc_curve(target_test, probabilities_one_test_dtc_w)\n",
    "\n",
    "plt.figure(figsize=(8, 8))\n",
    "plt.plot(fpr, tpr)\n",
    "plt.plot([0, 1], [0, 1], linestyle='--')\n",
    "plt.xlim([0.0, 1.0])\n",
    "plt.ylim([0.0, 1.0])\n",
    "plt.xlabel('False Positive Rate')\n",
    "plt.ylabel('True Positive Rate')\n",
    "plt.title('ROC-кривая')\n",
    "plt.show()\n",
    "\n",
    "print(\"F1 на тестовой выборке:\", f1_test_dtc_w)\n",
    "print(\"AUC-ROC на тестовой выборке:\", auc_roc_dtc_w)\n"
   ]
  },
  {
   "cell_type": "markdown",
   "metadata": {},
   "source": [
    "###  Проверим лучшую модель RandomForestClassifier на тестовой выборке"
   ]
  },
  {
   "cell_type": "code",
   "execution_count": 37,
   "metadata": {
    "scrolled": true
   },
   "outputs": [
    {
     "data": {
      "image/png": "[encoded data removed]",
      "text/plain": [
       "<Figure size 576x576 with 1 Axes>"
      ]
     },
     "metadata": {
      "needs_background": "light"
     },
     "output_type": "display_data"
    },
    {
     "name": "stdout",
     "output_type": "stream",
     "text": [
      "F1-мера на тестовой выборке: 0.5909677419354838\n",
      "AUC-ROC на тестовой выборке: 0.8499041941664892\n"
     ]
    }
   ],
   "source": [
    "# Оценка модели на тестовой выборк\n",
    "predicted_test_rfc_os = model_rfc_os.predict(features_test)\n",
    "probabilities_test_rfc_os = model_rfc_os.predict_proba(features_test)\n",
    "probabilities_one_test_rfc_os = probabilities_test_rfc_os[:, 1]\n",
    "\n",
    "# Построение ROC-кривой\n",
    "fpr, tpr, thresholds = roc_curve(target_test, probabilities_one_test_rfc_os)\n",
    "\n",
    "plt.figure(figsize=(8, 8))\n",
    "plt.plot(fpr, tpr)\n",
    "plt.plot([0, 1], [0, 1], linestyle='--')\n",
    "plt.xlim(0,1)\n",
    "plt.ylim(0,1)\n",
    "plt.xlabel('False Positive Rate')\n",
    "plt.ylabel('True Positive Rate')\n",
    "plt.title('ROC-кривая на тестовой выборке')\n",
    "plt.show()\n",
    "\n",
    "print(\"F1-мера на тестовой выборке:\", f1_score(target_test, predicted_test_rfc_os))\n",
    "print(\"AUC-ROC на тестовой выборке:\", roc_auc_score(target_test, probabilities_one_test_rfc_os))\n"
   ]
  },
  {
   "cell_type": "markdown",
   "metadata": {},
   "source": [
    "### Вывод:"
   ]
  },
  {
   "cell_type": "markdown",
   "metadata": {},
   "source": [
    "Исходя из тестирования, можно сделать вывод, что модель случайного леса показала наилучшие результаты по метрике F1-меры, превысив значение 0.59, а также имеет наибольшее значение метрики AUC-ROC на тестовой выборке. Остальные модели, логистическая регрессия и дерево решений, имеют значительно более низкие показатели по метрикам F1-меры. В целом, все три модели имеют хорошие результаты AUC-ROC на тестовой выборке, что указывает на их способность хорошо разделять классы. Однако, при выборе модели также важно учитывать и другие метрики, такие как точность и полнота."
   ]
  }
 ],
 "metadata": {
  "ExecuteTimeLog": [
   {
    "duration": 396,
    "start_time": "2023-04-02T14:55:57.654Z"
   },
   {
    "duration": 88,
    "start_time": "2023-04-02T14:56:21.335Z"
   },
   {
    "duration": 12,
    "start_time": "2023-04-02T14:56:30.714Z"
   },
   {
    "duration": 8,
    "start_time": "2023-04-02T14:56:52.575Z"
   },
   {
    "duration": 10,
    "start_time": "2023-04-02T14:57:02.959Z"
   },
   {
    "duration": 69,
    "start_time": "2023-04-02T14:57:15.639Z"
   },
   {
    "duration": 7,
    "start_time": "2023-04-02T14:57:19.967Z"
   },
   {
    "duration": 8,
    "start_time": "2023-04-02T14:58:21.052Z"
   },
   {
    "duration": 11,
    "start_time": "2023-04-02T14:58:32.639Z"
   },
   {
    "duration": 37,
    "start_time": "2023-04-02T14:59:38.252Z"
   },
   {
    "duration": 12,
    "start_time": "2023-04-02T15:00:00.007Z"
   },
   {
    "duration": 10,
    "start_time": "2023-04-02T15:01:31.368Z"
   },
   {
    "duration": 8,
    "start_time": "2023-04-02T15:10:37.146Z"
   },
   {
    "duration": 9,
    "start_time": "2023-04-02T15:11:41.456Z"
   },
   {
    "duration": 13,
    "start_time": "2023-04-02T15:11:45.852Z"
   },
   {
    "duration": 9,
    "start_time": "2023-04-02T15:11:53.208Z"
   },
   {
    "duration": 6,
    "start_time": "2023-04-02T15:11:54.808Z"
   },
   {
    "duration": 19,
    "start_time": "2023-04-02T15:20:38.894Z"
   },
   {
    "duration": 6,
    "start_time": "2023-04-02T15:22:49.488Z"
   },
   {
    "duration": 10,
    "start_time": "2023-04-02T15:27:34.778Z"
   },
   {
    "duration": 9,
    "start_time": "2023-04-02T15:27:51.369Z"
   },
   {
    "duration": 3,
    "start_time": "2023-04-02T15:29:51.887Z"
   },
   {
    "duration": 6,
    "start_time": "2023-04-02T15:30:56.408Z"
   },
   {
    "duration": 3,
    "start_time": "2023-04-02T15:44:29.776Z"
   },
   {
    "duration": 8,
    "start_time": "2023-04-02T15:45:49.043Z"
   },
   {
    "duration": 2,
    "start_time": "2023-04-02T15:46:02.914Z"
   },
   {
    "duration": 36,
    "start_time": "2023-04-02T15:46:02.918Z"
   },
   {
    "duration": 11,
    "start_time": "2023-04-02T15:46:02.955Z"
   },
   {
    "duration": 36,
    "start_time": "2023-04-02T15:46:02.967Z"
   },
   {
    "duration": 11,
    "start_time": "2023-04-02T15:46:03.004Z"
   },
   {
    "duration": 27,
    "start_time": "2023-04-02T15:46:03.017Z"
   },
   {
    "duration": 3,
    "start_time": "2023-04-02T15:46:03.046Z"
   },
   {
    "duration": 6,
    "start_time": "2023-04-02T15:46:03.050Z"
   },
   {
    "duration": 5,
    "start_time": "2023-04-02T15:46:03.057Z"
   },
   {
    "duration": 8,
    "start_time": "2023-04-02T15:46:03.063Z"
   },
   {
    "duration": 9,
    "start_time": "2023-04-02T15:51:16.850Z"
   },
   {
    "duration": 10,
    "start_time": "2023-04-02T15:52:35.294Z"
   },
   {
    "duration": 4,
    "start_time": "2023-04-02T15:53:49.692Z"
   },
   {
    "duration": 4,
    "start_time": "2023-04-02T15:53:52.833Z"
   },
   {
    "duration": 10,
    "start_time": "2023-04-02T15:53:57.973Z"
   },
   {
    "duration": 397,
    "start_time": "2023-04-02T15:54:12.203Z"
   },
   {
    "duration": 35,
    "start_time": "2023-04-02T15:54:12.602Z"
   },
   {
    "duration": 12,
    "start_time": "2023-04-02T15:54:12.639Z"
   },
   {
    "duration": 40,
    "start_time": "2023-04-02T15:54:12.652Z"
   },
   {
    "duration": 12,
    "start_time": "2023-04-02T15:54:12.694Z"
   },
   {
    "duration": 7,
    "start_time": "2023-04-02T15:54:12.707Z"
   },
   {
    "duration": 26,
    "start_time": "2023-04-02T15:54:12.715Z"
   },
   {
    "duration": 5,
    "start_time": "2023-04-02T15:54:12.742Z"
   },
   {
    "duration": 5,
    "start_time": "2023-04-02T15:54:12.748Z"
   },
   {
    "duration": 71,
    "start_time": "2023-04-02T15:54:12.754Z"
   },
   {
    "duration": 4,
    "start_time": "2023-04-02T15:55:14.782Z"
   },
   {
    "duration": 10,
    "start_time": "2023-04-02T15:55:17.338Z"
   },
   {
    "duration": 5,
    "start_time": "2023-04-02T15:55:40.934Z"
   },
   {
    "duration": 4,
    "start_time": "2023-04-02T15:55:45.222Z"
   },
   {
    "duration": 3,
    "start_time": "2023-04-02T15:55:53.532Z"
   },
   {
    "duration": 352,
    "start_time": "2023-04-02T15:56:29.071Z"
   },
   {
    "duration": 35,
    "start_time": "2023-04-02T15:56:29.424Z"
   },
   {
    "duration": 11,
    "start_time": "2023-04-02T15:56:29.461Z"
   },
   {
    "duration": 38,
    "start_time": "2023-04-02T15:56:29.474Z"
   },
   {
    "duration": 10,
    "start_time": "2023-04-02T15:56:29.514Z"
   },
   {
    "duration": 19,
    "start_time": "2023-04-02T15:56:29.526Z"
   },
   {
    "duration": 7,
    "start_time": "2023-04-02T15:56:29.547Z"
   },
   {
    "duration": 14,
    "start_time": "2023-04-02T15:56:29.556Z"
   },
   {
    "duration": 11,
    "start_time": "2023-04-02T15:56:29.572Z"
   },
   {
    "duration": 749,
    "start_time": "2023-04-02T15:56:56.294Z"
   },
   {
    "duration": 0,
    "start_time": "2023-04-02T15:56:57.045Z"
   },
   {
    "duration": 2,
    "start_time": "2023-04-02T15:57:18.177Z"
   },
   {
    "duration": 47,
    "start_time": "2023-04-02T15:57:18.181Z"
   },
   {
    "duration": 11,
    "start_time": "2023-04-02T15:57:18.229Z"
   },
   {
    "duration": 35,
    "start_time": "2023-04-02T15:57:18.241Z"
   },
   {
    "duration": 12,
    "start_time": "2023-04-02T15:57:18.278Z"
   },
   {
    "duration": 12,
    "start_time": "2023-04-02T15:57:18.292Z"
   },
   {
    "duration": 3,
    "start_time": "2023-04-02T15:57:18.306Z"
   },
   {
    "duration": 6,
    "start_time": "2023-04-02T15:57:18.310Z"
   },
   {
    "duration": 5,
    "start_time": "2023-04-02T15:57:18.339Z"
   },
   {
    "duration": 9,
    "start_time": "2023-04-02T15:57:18.345Z"
   },
   {
    "duration": 8,
    "start_time": "2023-04-02T15:57:42.778Z"
   },
   {
    "duration": 342,
    "start_time": "2023-04-02T15:57:49.285Z"
   },
   {
    "duration": 35,
    "start_time": "2023-04-02T15:57:49.629Z"
   },
   {
    "duration": 10,
    "start_time": "2023-04-02T15:57:49.666Z"
   },
   {
    "duration": 43,
    "start_time": "2023-04-02T15:57:49.678Z"
   },
   {
    "duration": 12,
    "start_time": "2023-04-02T15:57:49.722Z"
   },
   {
    "duration": 12,
    "start_time": "2023-04-02T15:57:49.740Z"
   },
   {
    "duration": 6,
    "start_time": "2023-04-02T15:57:49.754Z"
   },
   {
    "duration": 728,
    "start_time": "2023-04-02T15:57:49.761Z"
   },
   {
    "duration": 0,
    "start_time": "2023-04-02T15:57:50.490Z"
   },
   {
    "duration": 0,
    "start_time": "2023-04-02T15:57:50.491Z"
   },
   {
    "duration": 4,
    "start_time": "2023-04-02T15:57:59.472Z"
   },
   {
    "duration": 4,
    "start_time": "2023-04-02T15:58:01.335Z"
   },
   {
    "duration": 5,
    "start_time": "2023-04-02T15:58:02.095Z"
   },
   {
    "duration": 4,
    "start_time": "2023-04-02T15:58:26.937Z"
   },
   {
    "duration": 5,
    "start_time": "2023-04-02T15:58:35.932Z"
   },
   {
    "duration": 4,
    "start_time": "2023-04-02T15:58:36.611Z"
   },
   {
    "duration": 11,
    "start_time": "2023-04-02T15:58:44.065Z"
   },
   {
    "duration": 418,
    "start_time": "2023-04-02T15:58:53.101Z"
   },
   {
    "duration": 36,
    "start_time": "2023-04-02T15:58:53.521Z"
   },
   {
    "duration": 13,
    "start_time": "2023-04-02T15:58:53.559Z"
   },
   {
    "duration": 43,
    "start_time": "2023-04-02T15:58:53.574Z"
   },
   {
    "duration": 27,
    "start_time": "2023-04-02T15:58:53.620Z"
   },
   {
    "duration": 19,
    "start_time": "2023-04-02T15:58:53.649Z"
   },
   {
    "duration": 8,
    "start_time": "2023-04-02T15:58:53.670Z"
   },
   {
    "duration": 8,
    "start_time": "2023-04-02T15:58:53.680Z"
   },
   {
    "duration": 11,
    "start_time": "2023-04-02T15:58:53.689Z"
   },
   {
    "duration": 340,
    "start_time": "2023-04-02T15:59:09.483Z"
   },
   {
    "duration": 34,
    "start_time": "2023-04-02T15:59:09.825Z"
   },
   {
    "duration": 14,
    "start_time": "2023-04-02T15:59:09.861Z"
   },
   {
    "duration": 51,
    "start_time": "2023-04-02T15:59:09.876Z"
   },
   {
    "duration": 12,
    "start_time": "2023-04-02T15:59:09.929Z"
   },
   {
    "duration": 23,
    "start_time": "2023-04-02T15:59:09.942Z"
   },
   {
    "duration": 6,
    "start_time": "2023-04-02T15:59:09.966Z"
   },
   {
    "duration": 2,
    "start_time": "2023-04-02T15:59:09.974Z"
   },
   {
    "duration": 4,
    "start_time": "2023-04-02T15:59:09.979Z"
   },
   {
    "duration": 10,
    "start_time": "2023-04-02T15:59:09.985Z"
   },
   {
    "duration": 72,
    "start_time": "2023-04-02T16:00:17.662Z"
   },
   {
    "duration": 10,
    "start_time": "2023-04-02T16:00:25.136Z"
   },
   {
    "duration": 392,
    "start_time": "2023-04-02T16:00:35.335Z"
   },
   {
    "duration": 35,
    "start_time": "2023-04-02T16:00:35.729Z"
   },
   {
    "duration": 12,
    "start_time": "2023-04-02T16:00:35.766Z"
   },
   {
    "duration": 40,
    "start_time": "2023-04-02T16:00:35.780Z"
   },
   {
    "duration": 11,
    "start_time": "2023-04-02T16:00:35.822Z"
   },
   {
    "duration": 10,
    "start_time": "2023-04-02T16:00:35.840Z"
   },
   {
    "duration": 6,
    "start_time": "2023-04-02T16:00:35.852Z"
   },
   {
    "duration": 8,
    "start_time": "2023-04-02T16:00:35.859Z"
   },
   {
    "duration": 4,
    "start_time": "2023-04-02T16:00:35.868Z"
   },
   {
    "duration": 5,
    "start_time": "2023-04-02T16:00:35.874Z"
   },
   {
    "duration": 83,
    "start_time": "2023-04-02T16:00:35.880Z"
   },
   {
    "duration": 9,
    "start_time": "2023-04-02T16:01:03.024Z"
   },
   {
    "duration": 3,
    "start_time": "2023-04-02T16:01:12.871Z"
   },
   {
    "duration": 4,
    "start_time": "2023-04-02T16:01:27.732Z"
   },
   {
    "duration": 10,
    "start_time": "2023-04-02T16:02:06.176Z"
   },
   {
    "duration": 384,
    "start_time": "2023-04-02T16:02:15.898Z"
   },
   {
    "duration": 37,
    "start_time": "2023-04-02T16:02:16.284Z"
   },
   {
    "duration": 12,
    "start_time": "2023-04-02T16:02:16.323Z"
   },
   {
    "duration": 39,
    "start_time": "2023-04-02T16:02:16.336Z"
   },
   {
    "duration": 11,
    "start_time": "2023-04-02T16:02:16.377Z"
   },
   {
    "duration": 13,
    "start_time": "2023-04-02T16:02:16.389Z"
   },
   {
    "duration": 7,
    "start_time": "2023-04-02T16:02:16.403Z"
   },
   {
    "duration": 3,
    "start_time": "2023-04-02T16:02:16.411Z"
   },
   {
    "duration": 7,
    "start_time": "2023-04-02T16:02:16.440Z"
   },
   {
    "duration": 17,
    "start_time": "2023-04-02T16:02:16.449Z"
   },
   {
    "duration": 5,
    "start_time": "2023-04-02T16:06:11.289Z"
   },
   {
    "duration": 21,
    "start_time": "2023-04-02T16:20:03.154Z"
   },
   {
    "duration": 378,
    "start_time": "2023-04-02T16:21:29.747Z"
   },
   {
    "duration": 250,
    "start_time": "2023-04-02T16:26:23.063Z"
   },
   {
    "duration": 1271,
    "start_time": "2023-04-02T16:26:34.422Z"
   },
   {
    "duration": 36,
    "start_time": "2023-04-02T16:26:35.695Z"
   },
   {
    "duration": 12,
    "start_time": "2023-04-02T16:26:35.732Z"
   },
   {
    "duration": 49,
    "start_time": "2023-04-02T16:26:35.745Z"
   },
   {
    "duration": 10,
    "start_time": "2023-04-02T16:26:35.796Z"
   },
   {
    "duration": 35,
    "start_time": "2023-04-02T16:26:35.808Z"
   },
   {
    "duration": 6,
    "start_time": "2023-04-02T16:26:35.845Z"
   },
   {
    "duration": 13,
    "start_time": "2023-04-02T16:26:35.853Z"
   },
   {
    "duration": 13,
    "start_time": "2023-04-02T16:26:35.867Z"
   },
   {
    "duration": 13,
    "start_time": "2023-04-02T16:26:35.882Z"
   },
   {
    "duration": 4,
    "start_time": "2023-04-02T16:26:35.897Z"
   },
   {
    "duration": 40,
    "start_time": "2023-04-02T16:26:35.902Z"
   },
   {
    "duration": 280,
    "start_time": "2023-04-02T16:26:35.944Z"
   },
   {
    "duration": 3,
    "start_time": "2023-04-02T16:32:52.099Z"
   },
   {
    "duration": 13,
    "start_time": "2023-04-02T16:43:56.869Z"
   },
   {
    "duration": 10,
    "start_time": "2023-04-02T16:44:38.905Z"
   },
   {
    "duration": 68,
    "start_time": "2023-04-02T16:44:44.180Z"
   },
   {
    "duration": 20,
    "start_time": "2023-04-02T16:44:48.059Z"
   },
   {
    "duration": 1284,
    "start_time": "2023-04-02T16:44:58.571Z"
   },
   {
    "duration": 37,
    "start_time": "2023-04-02T16:44:59.857Z"
   },
   {
    "duration": 13,
    "start_time": "2023-04-02T16:44:59.895Z"
   },
   {
    "duration": 38,
    "start_time": "2023-04-02T16:44:59.910Z"
   },
   {
    "duration": 12,
    "start_time": "2023-04-02T16:44:59.949Z"
   },
   {
    "duration": 12,
    "start_time": "2023-04-02T16:44:59.962Z"
   },
   {
    "duration": 8,
    "start_time": "2023-04-02T16:44:59.976Z"
   },
   {
    "duration": 3,
    "start_time": "2023-04-02T16:44:59.986Z"
   },
   {
    "duration": 7,
    "start_time": "2023-04-02T16:44:59.991Z"
   },
   {
    "duration": 43,
    "start_time": "2023-04-02T16:45:00.000Z"
   },
   {
    "duration": 129,
    "start_time": "2023-04-02T16:45:00.045Z"
   },
   {
    "duration": 0,
    "start_time": "2023-04-02T16:45:00.176Z"
   },
   {
    "duration": 0,
    "start_time": "2023-04-02T16:45:00.177Z"
   },
   {
    "duration": 0,
    "start_time": "2023-04-02T16:45:00.178Z"
   },
   {
    "duration": 0,
    "start_time": "2023-04-02T16:45:00.179Z"
   },
   {
    "duration": 12,
    "start_time": "2023-04-02T16:45:43.782Z"
   },
   {
    "duration": 15,
    "start_time": "2023-04-02T16:45:50.483Z"
   },
   {
    "duration": 6,
    "start_time": "2023-04-02T16:48:35.426Z"
   },
   {
    "duration": 4,
    "start_time": "2023-04-02T16:48:47.702Z"
   },
   {
    "duration": 107,
    "start_time": "2023-04-02T16:49:14.155Z"
   },
   {
    "duration": 107,
    "start_time": "2023-04-02T16:49:31.501Z"
   },
   {
    "duration": 6,
    "start_time": "2023-04-02T16:52:14.507Z"
   },
   {
    "duration": 15,
    "start_time": "2023-04-02T16:56:34.614Z"
   },
   {
    "duration": 12,
    "start_time": "2023-04-02T18:32:13.103Z"
   },
   {
    "duration": 1391,
    "start_time": "2023-04-02T18:32:30.423Z"
   },
   {
    "duration": 42,
    "start_time": "2023-04-02T18:32:31.816Z"
   },
   {
    "duration": 15,
    "start_time": "2023-04-02T18:32:31.860Z"
   },
   {
    "duration": 45,
    "start_time": "2023-04-02T18:32:31.877Z"
   },
   {
    "duration": 26,
    "start_time": "2023-04-02T18:32:31.925Z"
   },
   {
    "duration": 19,
    "start_time": "2023-04-02T18:32:31.953Z"
   },
   {
    "duration": 9,
    "start_time": "2023-04-02T18:32:31.974Z"
   },
   {
    "duration": 4,
    "start_time": "2023-04-02T18:32:31.985Z"
   },
   {
    "duration": 14,
    "start_time": "2023-04-02T18:32:31.991Z"
   },
   {
    "duration": 38,
    "start_time": "2023-04-02T18:32:32.008Z"
   },
   {
    "duration": 5,
    "start_time": "2023-04-02T18:32:32.047Z"
   },
   {
    "duration": 131,
    "start_time": "2023-04-02T18:32:32.054Z"
   },
   {
    "duration": 4,
    "start_time": "2023-04-02T18:32:32.187Z"
   },
   {
    "duration": 10,
    "start_time": "2023-04-02T18:32:32.192Z"
   },
   {
    "duration": 6,
    "start_time": "2023-04-02T18:32:32.203Z"
   },
   {
    "duration": 15,
    "start_time": "2023-04-02T18:32:32.210Z"
   },
   {
    "duration": 135,
    "start_time": "2023-04-02T18:36:26.896Z"
   },
   {
    "duration": 18,
    "start_time": "2023-04-02T18:36:33.967Z"
   },
   {
    "duration": 24,
    "start_time": "2023-04-02T18:36:39.675Z"
   },
   {
    "duration": 1412,
    "start_time": "2023-04-02T18:36:55.925Z"
   },
   {
    "duration": 36,
    "start_time": "2023-04-02T18:36:57.339Z"
   },
   {
    "duration": 11,
    "start_time": "2023-04-02T18:36:57.377Z"
   },
   {
    "duration": 37,
    "start_time": "2023-04-02T18:36:57.390Z"
   },
   {
    "duration": 12,
    "start_time": "2023-04-02T18:36:57.430Z"
   },
   {
    "duration": 14,
    "start_time": "2023-04-02T18:36:57.443Z"
   },
   {
    "duration": 7,
    "start_time": "2023-04-02T18:36:57.459Z"
   },
   {
    "duration": 3,
    "start_time": "2023-04-02T18:36:57.468Z"
   },
   {
    "duration": 8,
    "start_time": "2023-04-02T18:36:57.473Z"
   },
   {
    "duration": 12,
    "start_time": "2023-04-02T18:36:57.482Z"
   },
   {
    "duration": 48,
    "start_time": "2023-04-02T18:36:57.496Z"
   },
   {
    "duration": 132,
    "start_time": "2023-04-02T18:36:57.546Z"
   },
   {
    "duration": 4,
    "start_time": "2023-04-02T18:36:57.680Z"
   },
   {
    "duration": 6,
    "start_time": "2023-04-02T18:36:57.686Z"
   },
   {
    "duration": 11,
    "start_time": "2023-04-02T18:36:57.694Z"
   },
   {
    "duration": 9,
    "start_time": "2023-04-02T18:36:57.707Z"
   },
   {
    "duration": 144,
    "start_time": "2023-04-02T18:36:57.717Z"
   },
   {
    "duration": 8,
    "start_time": "2023-04-02T18:41:38.579Z"
   },
   {
    "duration": 10,
    "start_time": "2023-04-02T18:41:43.758Z"
   },
   {
    "duration": 26,
    "start_time": "2023-04-02T18:41:49.034Z"
   },
   {
    "duration": 245,
    "start_time": "2023-04-02T18:42:11.213Z"
   },
   {
    "duration": 27,
    "start_time": "2023-04-02T18:42:33.346Z"
   },
   {
    "duration": 8,
    "start_time": "2023-04-02T18:43:13.970Z"
   },
   {
    "duration": 4,
    "start_time": "2023-04-02T18:45:28.271Z"
   },
   {
    "duration": 243,
    "start_time": "2023-04-02T18:46:24.226Z"
   },
   {
    "duration": 23,
    "start_time": "2023-04-02T18:46:28.570Z"
   },
   {
    "duration": 9,
    "start_time": "2023-04-02T18:48:37.087Z"
   },
   {
    "duration": 10,
    "start_time": "2023-04-02T18:49:01.608Z"
   },
   {
    "duration": 3,
    "start_time": "2023-04-02T18:49:14.613Z"
   },
   {
    "duration": 12,
    "start_time": "2023-04-02T18:49:20.663Z"
   },
   {
    "duration": 10,
    "start_time": "2023-04-02T18:49:42.195Z"
   },
   {
    "duration": 18,
    "start_time": "2023-04-02T18:49:45.571Z"
   },
   {
    "duration": 250,
    "start_time": "2023-04-02T18:49:59.219Z"
   },
   {
    "duration": 4,
    "start_time": "2023-04-02T18:52:17.405Z"
   },
   {
    "duration": 41,
    "start_time": "2023-04-02T18:52:17.411Z"
   },
   {
    "duration": 16,
    "start_time": "2023-04-02T18:52:17.454Z"
   },
   {
    "duration": 38,
    "start_time": "2023-04-02T18:52:17.472Z"
   },
   {
    "duration": 11,
    "start_time": "2023-04-02T18:52:17.512Z"
   },
   {
    "duration": 19,
    "start_time": "2023-04-02T18:52:17.541Z"
   },
   {
    "duration": 9,
    "start_time": "2023-04-02T18:52:17.562Z"
   },
   {
    "duration": 3,
    "start_time": "2023-04-02T18:52:17.572Z"
   },
   {
    "duration": 8,
    "start_time": "2023-04-02T18:52:17.576Z"
   },
   {
    "duration": 11,
    "start_time": "2023-04-02T18:52:17.585Z"
   },
   {
    "duration": 5,
    "start_time": "2023-04-02T18:52:17.597Z"
   },
   {
    "duration": 157,
    "start_time": "2023-04-02T18:52:17.603Z"
   },
   {
    "duration": 269,
    "start_time": "2023-04-02T18:52:17.763Z"
   },
   {
    "duration": 7,
    "start_time": "2023-04-02T18:52:18.035Z"
   },
   {
    "duration": 10,
    "start_time": "2023-04-02T18:52:18.044Z"
   },
   {
    "duration": 15,
    "start_time": "2023-04-02T18:52:18.056Z"
   },
   {
    "duration": 7,
    "start_time": "2023-04-02T18:52:18.073Z"
   },
   {
    "duration": 19,
    "start_time": "2023-04-02T18:52:18.081Z"
   },
   {
    "duration": 18,
    "start_time": "2023-04-02T18:52:23.116Z"
   },
   {
    "duration": 218,
    "start_time": "2023-04-02T18:53:22.538Z"
   },
   {
    "duration": 241,
    "start_time": "2023-04-02T18:53:34.438Z"
   },
   {
    "duration": 267,
    "start_time": "2023-04-02T18:54:27.051Z"
   },
   {
    "duration": 88,
    "start_time": "2023-04-02T18:54:31.712Z"
   },
   {
    "duration": 256,
    "start_time": "2023-04-02T18:54:55.239Z"
   },
   {
    "duration": 94,
    "start_time": "2023-04-02T18:54:56.319Z"
   },
   {
    "duration": 3193,
    "start_time": "2023-04-02T18:55:00.675Z"
   },
   {
    "duration": 1274,
    "start_time": "2023-04-02T18:55:12.540Z"
   },
   {
    "duration": 39,
    "start_time": "2023-04-02T18:55:13.816Z"
   },
   {
    "duration": 13,
    "start_time": "2023-04-02T18:55:13.857Z"
   },
   {
    "duration": 37,
    "start_time": "2023-04-02T18:55:13.873Z"
   },
   {
    "duration": 11,
    "start_time": "2023-04-02T18:55:13.912Z"
   },
   {
    "duration": 29,
    "start_time": "2023-04-02T18:55:13.924Z"
   },
   {
    "duration": 10,
    "start_time": "2023-04-02T18:55:13.954Z"
   },
   {
    "duration": 4,
    "start_time": "2023-04-02T18:55:13.966Z"
   },
   {
    "duration": 13,
    "start_time": "2023-04-02T18:55:13.971Z"
   },
   {
    "duration": 12,
    "start_time": "2023-04-02T18:55:13.986Z"
   },
   {
    "duration": 5,
    "start_time": "2023-04-02T18:55:13.999Z"
   },
   {
    "duration": 151,
    "start_time": "2023-04-02T18:55:14.006Z"
   },
   {
    "duration": 272,
    "start_time": "2023-04-02T18:55:14.159Z"
   },
   {
    "duration": 94,
    "start_time": "2023-04-02T18:55:14.432Z"
   },
   {
    "duration": 4335,
    "start_time": "2023-04-02T18:55:14.528Z"
   },
   {
    "duration": 11,
    "start_time": "2023-04-02T18:57:55.783Z"
   },
   {
    "duration": 4703,
    "start_time": "2023-04-02T18:58:00.582Z"
   },
   {
    "duration": 3550,
    "start_time": "2023-04-02T19:00:35.812Z"
   },
   {
    "duration": 3,
    "start_time": "2023-04-02T19:07:45.855Z"
   },
   {
    "duration": 4,
    "start_time": "2023-04-02T19:07:49.656Z"
   },
   {
    "duration": 1297,
    "start_time": "2023-04-02T19:08:19.548Z"
   },
   {
    "duration": 37,
    "start_time": "2023-04-02T19:08:20.847Z"
   },
   {
    "duration": 11,
    "start_time": "2023-04-02T19:08:20.886Z"
   },
   {
    "duration": 47,
    "start_time": "2023-04-02T19:08:20.900Z"
   },
   {
    "duration": 10,
    "start_time": "2023-04-02T19:08:20.948Z"
   },
   {
    "duration": 13,
    "start_time": "2023-04-02T19:08:20.959Z"
   },
   {
    "duration": 7,
    "start_time": "2023-04-02T19:08:20.973Z"
   },
   {
    "duration": 3,
    "start_time": "2023-04-02T19:08:20.982Z"
   },
   {
    "duration": 25,
    "start_time": "2023-04-02T19:08:20.987Z"
   },
   {
    "duration": 14,
    "start_time": "2023-04-02T19:08:21.014Z"
   },
   {
    "duration": 4,
    "start_time": "2023-04-02T19:08:21.040Z"
   },
   {
    "duration": 117,
    "start_time": "2023-04-02T19:08:21.046Z"
   },
   {
    "duration": 285,
    "start_time": "2023-04-02T19:08:21.165Z"
   },
   {
    "duration": 90,
    "start_time": "2023-04-02T19:08:21.452Z"
   },
   {
    "duration": 3839,
    "start_time": "2023-04-02T19:08:21.544Z"
   },
   {
    "duration": 4472,
    "start_time": "2023-04-02T19:08:25.385Z"
   },
   {
    "duration": 3691,
    "start_time": "2023-04-02T19:08:29.858Z"
   },
   {
    "duration": 88,
    "start_time": "2023-04-02T19:08:33.551Z"
   },
   {
    "duration": 619,
    "start_time": "2023-04-02T19:09:26.830Z"
   },
   {
    "duration": 1073,
    "start_time": "2023-04-02T19:09:46.074Z"
   },
   {
    "duration": 175,
    "start_time": "2023-04-02T19:11:46.572Z"
   },
   {
    "duration": 1247,
    "start_time": "2023-04-02T19:15:29.871Z"
   },
   {
    "duration": 37,
    "start_time": "2023-04-02T19:15:31.120Z"
   },
   {
    "duration": 32,
    "start_time": "2023-04-02T19:15:31.158Z"
   },
   {
    "duration": 52,
    "start_time": "2023-04-02T19:15:31.191Z"
   },
   {
    "duration": 12,
    "start_time": "2023-04-02T19:15:31.245Z"
   },
   {
    "duration": 31,
    "start_time": "2023-04-02T19:15:31.258Z"
   },
   {
    "duration": 15,
    "start_time": "2023-04-02T19:15:31.291Z"
   },
   {
    "duration": 24,
    "start_time": "2023-04-02T19:15:31.308Z"
   },
   {
    "duration": 25,
    "start_time": "2023-04-02T19:15:31.334Z"
   },
   {
    "duration": 36,
    "start_time": "2023-04-02T19:15:31.360Z"
   },
   {
    "duration": 19,
    "start_time": "2023-04-02T19:15:31.398Z"
   },
   {
    "duration": 124,
    "start_time": "2023-04-02T19:15:31.419Z"
   },
   {
    "duration": 285,
    "start_time": "2023-04-02T19:15:31.545Z"
   },
   {
    "duration": 97,
    "start_time": "2023-04-02T19:15:31.833Z"
   },
   {
    "duration": 3840,
    "start_time": "2023-04-02T19:15:31.932Z"
   },
   {
    "duration": 39226,
    "start_time": "2023-04-02T19:15:35.774Z"
   },
   {
    "duration": 554,
    "start_time": "2023-04-02T19:16:15.002Z"
   },
   {
    "duration": 1228,
    "start_time": "2023-04-02T19:16:15.639Z"
   },
   {
    "duration": 310,
    "start_time": "2023-04-02T19:16:16.944Z"
   },
   {
    "duration": 410,
    "start_time": "2023-04-02T19:19:55.535Z"
   },
   {
    "duration": 1285,
    "start_time": "2023-04-02T19:20:46.256Z"
   },
   {
    "duration": 230,
    "start_time": "2023-04-02T19:20:54.510Z"
   },
   {
    "duration": 184,
    "start_time": "2023-04-02T19:22:34.479Z"
   },
   {
    "duration": 1104,
    "start_time": "2023-04-02T19:22:36.882Z"
   },
   {
    "duration": 4,
    "start_time": "2023-04-02T19:23:47.524Z"
   },
   {
    "duration": 625,
    "start_time": "2023-04-02T19:24:20.896Z"
   },
   {
    "duration": 211,
    "start_time": "2023-04-02T19:26:36.932Z"
   },
   {
    "duration": 1108,
    "start_time": "2023-04-02T19:26:39.855Z"
   },
   {
    "duration": 1081,
    "start_time": "2023-04-02T19:27:38.666Z"
   },
   {
    "duration": 176,
    "start_time": "2023-04-02T19:27:57.903Z"
   },
   {
    "duration": 5,
    "start_time": "2023-04-02T19:28:00.515Z"
   },
   {
    "duration": 59,
    "start_time": "2023-04-02T19:28:00.522Z"
   },
   {
    "duration": 14,
    "start_time": "2023-04-02T19:28:00.583Z"
   },
   {
    "duration": 49,
    "start_time": "2023-04-02T19:28:00.598Z"
   },
   {
    "duration": 11,
    "start_time": "2023-04-02T19:28:00.649Z"
   },
   {
    "duration": 43,
    "start_time": "2023-04-02T19:28:00.662Z"
   },
   {
    "duration": 23,
    "start_time": "2023-04-02T19:28:00.706Z"
   },
   {
    "duration": 25,
    "start_time": "2023-04-02T19:28:00.731Z"
   },
   {
    "duration": 33,
    "start_time": "2023-04-02T19:28:00.757Z"
   },
   {
    "duration": 39,
    "start_time": "2023-04-02T19:28:00.791Z"
   },
   {
    "duration": 23,
    "start_time": "2023-04-02T19:28:00.831Z"
   },
   {
    "duration": 120,
    "start_time": "2023-04-02T19:28:00.856Z"
   },
   {
    "duration": 269,
    "start_time": "2023-04-02T19:28:00.978Z"
   },
   {
    "duration": 79,
    "start_time": "2023-04-02T19:28:01.250Z"
   },
   {
    "duration": 2940,
    "start_time": "2023-04-02T19:28:01.331Z"
   },
   {
    "duration": 39963,
    "start_time": "2023-04-02T19:28:04.273Z"
   },
   {
    "duration": 626,
    "start_time": "2023-04-02T19:28:44.240Z"
   },
   {
    "duration": 1293,
    "start_time": "2023-04-02T19:28:44.868Z"
   },
   {
    "duration": 296,
    "start_time": "2023-04-02T19:28:46.247Z"
   },
   {
    "duration": 4,
    "start_time": "2023-04-02T19:29:19.566Z"
   },
   {
    "duration": 660,
    "start_time": "2023-04-02T19:30:24.267Z"
   },
   {
    "duration": 4,
    "start_time": "2023-04-02T19:30:35.974Z"
   },
   {
    "duration": 562,
    "start_time": "2023-04-02T19:30:40.097Z"
   },
   {
    "duration": 174,
    "start_time": "2023-04-02T19:36:48.004Z"
   },
   {
    "duration": 1936,
    "start_time": "2023-04-02T19:38:15.008Z"
   },
   {
    "duration": 3495,
    "start_time": "2023-04-02T19:42:05.704Z"
   },
   {
    "duration": 194,
    "start_time": "2023-04-02T19:43:07.353Z"
   },
   {
    "duration": 2268,
    "start_time": "2023-04-02T19:43:59.788Z"
   },
   {
    "duration": 450,
    "start_time": "2023-04-02T19:48:04.193Z"
   },
   {
    "duration": 4,
    "start_time": "2023-04-02T19:48:21.532Z"
   },
   {
    "duration": 358,
    "start_time": "2023-04-02T19:48:26.327Z"
   },
   {
    "duration": 363,
    "start_time": "2023-04-02T19:49:35.790Z"
   },
   {
    "duration": 532,
    "start_time": "2023-04-02T19:50:50.522Z"
   },
   {
    "duration": 4,
    "start_time": "2023-04-02T19:51:08.622Z"
   },
   {
    "duration": 575,
    "start_time": "2023-04-02T19:51:12.966Z"
   },
   {
    "duration": 524,
    "start_time": "2023-04-02T19:52:13.325Z"
   },
   {
    "duration": 424,
    "start_time": "2023-04-02T19:53:59.025Z"
   },
   {
    "duration": 43,
    "start_time": "2023-04-02T20:00:20.665Z"
   },
   {
    "duration": 311,
    "start_time": "2023-04-02T20:00:35.830Z"
   },
   {
    "duration": 390,
    "start_time": "2023-04-02T20:01:55.758Z"
   },
   {
    "duration": 7,
    "start_time": "2023-04-02T20:11:26.295Z"
   },
   {
    "duration": 29488,
    "start_time": "2023-04-02T20:11:54.486Z"
   },
   {
    "duration": 1570,
    "start_time": "2023-04-02T20:13:59.246Z"
   },
   {
    "duration": 1494,
    "start_time": "2023-04-02T20:14:49.197Z"
   },
   {
    "duration": 1488,
    "start_time": "2023-04-02T20:17:09.987Z"
   },
   {
    "duration": 806,
    "start_time": "2023-04-02T20:17:46.087Z"
   },
   {
    "duration": 6112,
    "start_time": "2023-04-02T20:18:17.526Z"
   },
   {
    "duration": 4,
    "start_time": "2023-04-02T20:20:01.134Z"
   },
   {
    "duration": 65,
    "start_time": "2023-04-02T20:20:01.140Z"
   },
   {
    "duration": 12,
    "start_time": "2023-04-02T20:20:01.206Z"
   },
   {
    "duration": 62,
    "start_time": "2023-04-02T20:20:01.219Z"
   },
   {
    "duration": 20,
    "start_time": "2023-04-02T20:20:01.283Z"
   },
   {
    "duration": 47,
    "start_time": "2023-04-02T20:20:01.305Z"
   },
   {
    "duration": 18,
    "start_time": "2023-04-02T20:20:01.353Z"
   },
   {
    "duration": 22,
    "start_time": "2023-04-02T20:20:01.372Z"
   },
   {
    "duration": 32,
    "start_time": "2023-04-02T20:20:01.396Z"
   },
   {
    "duration": 36,
    "start_time": "2023-04-02T20:20:01.429Z"
   },
   {
    "duration": 27,
    "start_time": "2023-04-02T20:20:01.466Z"
   },
   {
    "duration": 180,
    "start_time": "2023-04-02T20:20:01.494Z"
   },
   {
    "duration": 234,
    "start_time": "2023-04-02T20:20:01.675Z"
   },
   {
    "duration": 86,
    "start_time": "2023-04-02T20:20:01.912Z"
   },
   {
    "duration": 2902,
    "start_time": "2023-04-02T20:20:01.999Z"
   },
   {
    "duration": 39557,
    "start_time": "2023-04-02T20:20:04.903Z"
   },
   {
    "duration": 589,
    "start_time": "2023-04-02T20:20:44.461Z"
   },
   {
    "duration": 3722,
    "start_time": "2023-04-02T20:20:45.051Z"
   },
   {
    "duration": 261,
    "start_time": "2023-04-02T20:20:48.840Z"
   },
   {
    "duration": 501,
    "start_time": "2023-04-02T20:20:49.142Z"
   },
   {
    "duration": 28736,
    "start_time": "2023-04-02T20:20:49.646Z"
   },
   {
    "duration": 696,
    "start_time": "2023-04-02T20:21:18.384Z"
   },
   {
    "duration": 5649,
    "start_time": "2023-04-02T20:21:19.081Z"
   },
   {
    "duration": 411,
    "start_time": "2023-04-02T20:21:24.731Z"
   },
   {
    "duration": 3209,
    "start_time": "2023-04-02T20:21:48.006Z"
   },
   {
    "duration": 184,
    "start_time": "2023-04-02T20:23:50.487Z"
   },
   {
    "duration": 140,
    "start_time": "2023-04-02T20:24:07.614Z"
   },
   {
    "duration": 570,
    "start_time": "2023-04-02T20:25:18.004Z"
   },
   {
    "duration": 232,
    "start_time": "2023-04-02T20:25:56.619Z"
   },
   {
    "duration": 828,
    "start_time": "2023-04-02T20:26:07.355Z"
   },
   {
    "duration": 185,
    "start_time": "2023-04-02T20:26:16.091Z"
   },
   {
    "duration": 546,
    "start_time": "2023-04-02T20:26:23.841Z"
   },
   {
    "duration": 69,
    "start_time": "2023-04-02T20:35:18.198Z"
   },
   {
    "duration": 3,
    "start_time": "2023-04-02T20:35:42.700Z"
   },
   {
    "duration": 163,
    "start_time": "2023-04-02T20:35:49.106Z"
   },
   {
    "duration": 3632,
    "start_time": "2023-04-02T20:42:44.914Z"
   },
   {
    "duration": 535,
    "start_time": "2023-04-02T20:44:22.650Z"
   },
   {
    "duration": 170,
    "start_time": "2023-04-02T20:44:38.890Z"
   },
   {
    "duration": 3622,
    "start_time": "2023-04-02T20:48:24.245Z"
   },
   {
    "duration": 184,
    "start_time": "2023-04-02T20:49:22.659Z"
   },
   {
    "duration": 387,
    "start_time": "2023-04-02T20:49:38.345Z"
   },
   {
    "duration": 29052,
    "start_time": "2023-04-02T20:50:44.353Z"
   },
   {
    "duration": 723,
    "start_time": "2023-04-02T20:51:51.894Z"
   },
   {
    "duration": 3553,
    "start_time": "2023-04-02T20:52:34.587Z"
   },
   {
    "duration": 192,
    "start_time": "2023-04-02T20:52:57.059Z"
   },
   {
    "duration": 389,
    "start_time": "2023-04-02T20:53:10.852Z"
   },
   {
    "duration": 29853,
    "start_time": "2023-04-02T20:54:10.702Z"
   },
   {
    "duration": 693,
    "start_time": "2023-04-02T20:54:40.557Z"
   },
   {
    "duration": 129,
    "start_time": "2023-04-02T20:56:23.902Z"
   },
   {
    "duration": 67,
    "start_time": "2023-04-02T20:58:13.200Z"
   },
   {
    "duration": 10,
    "start_time": "2023-04-02T21:01:15.325Z"
   },
   {
    "duration": 5,
    "start_time": "2023-04-02T21:02:18.617Z"
   },
   {
    "duration": 10,
    "start_time": "2023-04-02T21:02:23.410Z"
   },
   {
    "duration": 29,
    "start_time": "2023-04-02T21:04:35.608Z"
   },
   {
    "duration": 50,
    "start_time": "2023-04-02T21:04:44.923Z"
   },
   {
    "duration": 429,
    "start_time": "2023-04-02T21:06:13.571Z"
   },
   {
    "duration": 909,
    "start_time": "2023-04-02T21:08:51.836Z"
   },
   {
    "duration": 933,
    "start_time": "2023-04-02T21:09:17.707Z"
   },
   {
    "duration": 54,
    "start_time": "2023-04-02T21:10:58.443Z"
   },
   {
    "duration": 664,
    "start_time": "2023-04-02T21:11:11.781Z"
   },
   {
    "duration": 675,
    "start_time": "2023-04-02T21:12:50.917Z"
   },
   {
    "duration": 29181,
    "start_time": "2023-04-02T21:14:06.034Z"
   },
   {
    "duration": 1299,
    "start_time": "2023-04-02T21:14:45.617Z"
   },
   {
    "duration": 40,
    "start_time": "2023-04-02T21:14:46.918Z"
   },
   {
    "duration": 16,
    "start_time": "2023-04-02T21:14:46.960Z"
   },
   {
    "duration": 48,
    "start_time": "2023-04-02T21:14:46.978Z"
   },
   {
    "duration": 14,
    "start_time": "2023-04-02T21:14:47.040Z"
   },
   {
    "duration": 22,
    "start_time": "2023-04-02T21:14:47.056Z"
   },
   {
    "duration": 11,
    "start_time": "2023-04-02T21:14:47.080Z"
   },
   {
    "duration": 20,
    "start_time": "2023-04-02T21:14:47.093Z"
   },
   {
    "duration": 49,
    "start_time": "2023-04-02T21:14:47.115Z"
   },
   {
    "duration": 34,
    "start_time": "2023-04-02T21:14:47.166Z"
   },
   {
    "duration": 23,
    "start_time": "2023-04-02T21:14:47.201Z"
   },
   {
    "duration": 142,
    "start_time": "2023-04-02T21:14:47.225Z"
   },
   {
    "duration": 272,
    "start_time": "2023-04-02T21:14:47.368Z"
   },
   {
    "duration": 106,
    "start_time": "2023-04-02T21:14:47.644Z"
   },
   {
    "duration": 36,
    "start_time": "2023-04-02T21:14:47.751Z"
   },
   {
    "duration": 3895,
    "start_time": "2023-04-02T21:14:47.789Z"
   },
   {
    "duration": 1263,
    "start_time": "2023-04-02T21:15:18.154Z"
   },
   {
    "duration": 40,
    "start_time": "2023-04-02T21:15:19.418Z"
   },
   {
    "duration": 12,
    "start_time": "2023-04-02T21:15:19.459Z"
   },
   {
    "duration": 43,
    "start_time": "2023-04-02T21:15:19.473Z"
   },
   {
    "duration": 23,
    "start_time": "2023-04-02T21:15:19.519Z"
   },
   {
    "duration": 11,
    "start_time": "2023-04-02T21:15:19.543Z"
   },
   {
    "duration": 6,
    "start_time": "2023-04-02T21:15:19.555Z"
   },
   {
    "duration": 3,
    "start_time": "2023-04-02T21:15:19.562Z"
   },
   {
    "duration": 6,
    "start_time": "2023-04-02T21:15:19.566Z"
   },
   {
    "duration": 11,
    "start_time": "2023-04-02T21:15:19.573Z"
   },
   {
    "duration": 5,
    "start_time": "2023-04-02T21:15:19.585Z"
   },
   {
    "duration": 152,
    "start_time": "2023-04-02T21:15:19.591Z"
   },
   {
    "duration": 306,
    "start_time": "2023-04-02T21:15:19.745Z"
   },
   {
    "duration": 189,
    "start_time": "2023-04-02T21:15:20.054Z"
   },
   {
    "duration": 3725,
    "start_time": "2023-04-02T21:15:20.245Z"
   },
   {
    "duration": 39461,
    "start_time": "2023-04-02T21:15:23.972Z"
   },
   {
    "duration": 613,
    "start_time": "2023-04-02T21:16:03.440Z"
   },
   {
    "duration": 3691,
    "start_time": "2023-04-02T21:16:04.055Z"
   },
   {
    "duration": 361,
    "start_time": "2023-04-02T21:16:07.748Z"
   },
   {
    "duration": 0,
    "start_time": "2023-04-02T21:16:08.110Z"
   },
   {
    "duration": 0,
    "start_time": "2023-04-02T21:16:08.111Z"
   },
   {
    "duration": 0,
    "start_time": "2023-04-02T21:16:08.112Z"
   },
   {
    "duration": 0,
    "start_time": "2023-04-02T21:16:08.113Z"
   },
   {
    "duration": 0,
    "start_time": "2023-04-02T21:16:08.115Z"
   },
   {
    "duration": 0,
    "start_time": "2023-04-02T21:16:08.116Z"
   },
   {
    "duration": 0,
    "start_time": "2023-04-02T21:16:08.117Z"
   },
   {
    "duration": 0,
    "start_time": "2023-04-02T21:16:08.118Z"
   },
   {
    "duration": 0,
    "start_time": "2023-04-02T21:16:08.119Z"
   },
   {
    "duration": 4,
    "start_time": "2023-04-02T21:16:45.631Z"
   },
   {
    "duration": 54,
    "start_time": "2023-04-02T21:16:45.637Z"
   },
   {
    "duration": 13,
    "start_time": "2023-04-02T21:16:45.693Z"
   },
   {
    "duration": 44,
    "start_time": "2023-04-02T21:16:45.707Z"
   },
   {
    "duration": 11,
    "start_time": "2023-04-02T21:16:45.753Z"
   },
   {
    "duration": 20,
    "start_time": "2023-04-02T21:16:45.766Z"
   },
   {
    "duration": 6,
    "start_time": "2023-04-02T21:16:45.788Z"
   },
   {
    "duration": 4,
    "start_time": "2023-04-02T21:16:45.795Z"
   },
   {
    "duration": 14,
    "start_time": "2023-04-02T21:16:45.800Z"
   },
   {
    "duration": 11,
    "start_time": "2023-04-02T21:16:45.815Z"
   },
   {
    "duration": 7,
    "start_time": "2023-04-02T21:16:45.827Z"
   },
   {
    "duration": 118,
    "start_time": "2023-04-02T21:16:45.840Z"
   },
   {
    "duration": 260,
    "start_time": "2023-04-02T21:16:45.959Z"
   },
   {
    "duration": 114,
    "start_time": "2023-04-02T21:16:46.223Z"
   },
   {
    "duration": 2957,
    "start_time": "2023-04-02T21:16:46.339Z"
   },
   {
    "duration": 42023,
    "start_time": "2023-04-02T21:16:49.297Z"
   },
   {
    "duration": 536,
    "start_time": "2023-04-02T21:17:31.321Z"
   },
   {
    "duration": 3794,
    "start_time": "2023-04-02T21:17:31.858Z"
   },
   {
    "duration": 159,
    "start_time": "2023-04-02T21:17:35.654Z"
   },
   {
    "duration": 0,
    "start_time": "2023-04-02T21:17:35.814Z"
   },
   {
    "duration": 0,
    "start_time": "2023-04-02T21:17:35.815Z"
   },
   {
    "duration": 0,
    "start_time": "2023-04-02T21:17:35.816Z"
   },
   {
    "duration": 0,
    "start_time": "2023-04-02T21:17:35.816Z"
   },
   {
    "duration": 0,
    "start_time": "2023-04-02T21:17:35.817Z"
   },
   {
    "duration": 0,
    "start_time": "2023-04-02T21:17:35.818Z"
   },
   {
    "duration": 0,
    "start_time": "2023-04-02T21:17:35.818Z"
   },
   {
    "duration": 0,
    "start_time": "2023-04-02T21:17:35.819Z"
   },
   {
    "duration": 0,
    "start_time": "2023-04-02T21:17:35.820Z"
   },
   {
    "duration": 197,
    "start_time": "2023-04-02T21:17:56.452Z"
   },
   {
    "duration": 1227,
    "start_time": "2023-04-02T21:18:03.904Z"
   },
   {
    "duration": 42,
    "start_time": "2023-04-02T21:18:05.134Z"
   },
   {
    "duration": 13,
    "start_time": "2023-04-02T21:18:05.178Z"
   },
   {
    "duration": 42,
    "start_time": "2023-04-02T21:18:05.193Z"
   },
   {
    "duration": 23,
    "start_time": "2023-04-02T21:18:05.237Z"
   },
   {
    "duration": 14,
    "start_time": "2023-04-02T21:18:05.261Z"
   },
   {
    "duration": 7,
    "start_time": "2023-04-02T21:18:05.276Z"
   },
   {
    "duration": 4,
    "start_time": "2023-04-02T21:18:05.285Z"
   },
   {
    "duration": 7,
    "start_time": "2023-04-02T21:18:05.290Z"
   },
   {
    "duration": 10,
    "start_time": "2023-04-02T21:18:05.299Z"
   },
   {
    "duration": 35,
    "start_time": "2023-04-02T21:18:05.311Z"
   },
   {
    "duration": 120,
    "start_time": "2023-04-02T21:18:05.347Z"
   },
   {
    "duration": 284,
    "start_time": "2023-04-02T21:18:05.468Z"
   },
   {
    "duration": 91,
    "start_time": "2023-04-02T21:18:05.756Z"
   },
   {
    "duration": 3084,
    "start_time": "2023-04-02T21:18:05.849Z"
   },
   {
    "duration": 43420,
    "start_time": "2023-04-02T21:18:08.935Z"
   },
   {
    "duration": 601,
    "start_time": "2023-04-02T21:18:52.357Z"
   },
   {
    "duration": 3928,
    "start_time": "2023-04-02T21:18:52.960Z"
   },
   {
    "duration": 294,
    "start_time": "2023-04-02T21:18:56.947Z"
   },
   {
    "duration": 598,
    "start_time": "2023-04-02T21:18:57.246Z"
   },
   {
    "duration": 30330,
    "start_time": "2023-04-02T21:18:57.846Z"
   },
   {
    "duration": 0,
    "start_time": "2023-04-02T21:19:28.178Z"
   },
   {
    "duration": 0,
    "start_time": "2023-04-02T21:19:28.179Z"
   },
   {
    "duration": 0,
    "start_time": "2023-04-02T21:19:28.180Z"
   },
   {
    "duration": 0,
    "start_time": "2023-04-02T21:19:28.182Z"
   },
   {
    "duration": 0,
    "start_time": "2023-04-02T21:19:28.183Z"
   },
   {
    "duration": 0,
    "start_time": "2023-04-02T21:19:28.183Z"
   },
   {
    "duration": 0,
    "start_time": "2023-04-02T21:19:28.184Z"
   },
   {
    "duration": 1356,
    "start_time": "2023-04-02T21:20:07.393Z"
   },
   {
    "duration": 39,
    "start_time": "2023-04-02T21:20:08.751Z"
   },
   {
    "duration": 11,
    "start_time": "2023-04-02T21:20:08.792Z"
   },
   {
    "duration": 53,
    "start_time": "2023-04-02T21:20:08.805Z"
   },
   {
    "duration": 11,
    "start_time": "2023-04-02T21:20:08.860Z"
   },
   {
    "duration": 19,
    "start_time": "2023-04-02T21:20:08.872Z"
   },
   {
    "duration": 21,
    "start_time": "2023-04-02T21:20:08.892Z"
   },
   {
    "duration": 17,
    "start_time": "2023-04-02T21:20:08.914Z"
   },
   {
    "duration": 22,
    "start_time": "2023-04-02T21:20:08.932Z"
   },
   {
    "duration": 28,
    "start_time": "2023-04-02T21:20:08.956Z"
   },
   {
    "duration": 8,
    "start_time": "2023-04-02T21:20:08.985Z"
   },
   {
    "duration": 134,
    "start_time": "2023-04-02T21:20:08.994Z"
   },
   {
    "duration": 277,
    "start_time": "2023-04-02T21:20:09.130Z"
   },
   {
    "duration": 102,
    "start_time": "2023-04-02T21:20:09.409Z"
   },
   {
    "duration": 3082,
    "start_time": "2023-04-02T21:20:09.512Z"
   },
   {
    "duration": 41285,
    "start_time": "2023-04-02T21:20:12.595Z"
   },
   {
    "duration": 581,
    "start_time": "2023-04-02T21:20:53.882Z"
   },
   {
    "duration": 3804,
    "start_time": "2023-04-02T21:20:54.550Z"
   },
   {
    "duration": 390,
    "start_time": "2023-04-02T21:20:58.356Z"
   },
   {
    "duration": 592,
    "start_time": "2023-04-02T21:20:58.748Z"
   },
   {
    "duration": 29843,
    "start_time": "2023-04-02T21:20:59.349Z"
   },
   {
    "duration": 761,
    "start_time": "2023-04-02T21:21:29.194Z"
   },
   {
    "duration": 6025,
    "start_time": "2023-04-02T21:21:29.956Z"
   },
   {
    "duration": 3352,
    "start_time": "2023-04-02T21:21:35.982Z"
   },
   {
    "duration": 167,
    "start_time": "2023-04-02T21:21:39.336Z"
   },
   {
    "duration": 565,
    "start_time": "2023-04-02T21:21:39.504Z"
   },
   {
    "duration": 845,
    "start_time": "2023-04-02T21:21:40.070Z"
   },
   {
    "duration": 715,
    "start_time": "2023-04-02T21:21:40.916Z"
   },
   {
    "duration": 1951,
    "start_time": "2023-04-03T11:21:36.267Z"
   },
   {
    "duration": 187,
    "start_time": "2023-04-03T11:21:38.221Z"
   },
   {
    "duration": 18,
    "start_time": "2023-04-03T11:21:38.410Z"
   },
   {
    "duration": 60,
    "start_time": "2023-04-03T11:21:38.430Z"
   },
   {
    "duration": 15,
    "start_time": "2023-04-03T11:21:38.492Z"
   },
   {
    "duration": 33,
    "start_time": "2023-04-03T11:21:38.510Z"
   },
   {
    "duration": 19,
    "start_time": "2023-04-03T11:21:38.545Z"
   },
   {
    "duration": 17,
    "start_time": "2023-04-03T11:21:38.566Z"
   },
   {
    "duration": 17,
    "start_time": "2023-04-03T11:21:38.584Z"
   },
   {
    "duration": 68,
    "start_time": "2023-04-03T11:21:38.603Z"
   },
   {
    "duration": 38,
    "start_time": "2023-04-03T11:21:38.673Z"
   },
   {
    "duration": 161,
    "start_time": "2023-04-03T11:21:38.713Z"
   },
   {
    "duration": 296,
    "start_time": "2023-04-03T11:21:38.876Z"
   },
   {
    "duration": 147,
    "start_time": "2023-04-03T11:21:39.177Z"
   },
   {
    "duration": 4179,
    "start_time": "2023-04-03T11:21:39.326Z"
   },
   {
    "duration": 70527,
    "start_time": "2023-04-03T11:21:43.507Z"
   },
   {
    "duration": 736,
    "start_time": "2023-04-03T11:22:54.036Z"
   },
   {
    "duration": 4790,
    "start_time": "2023-04-03T11:22:54.853Z"
   },
   {
    "duration": 359,
    "start_time": "2023-04-03T11:22:59.652Z"
   },
   {
    "duration": 694,
    "start_time": "2023-04-03T11:23:00.051Z"
   },
   {
    "duration": 59647,
    "start_time": "2023-04-03T11:23:00.753Z"
   },
   {
    "duration": 1427,
    "start_time": "2023-04-03T11:24:00.402Z"
   },
   {
    "duration": 9648,
    "start_time": "2023-04-03T11:24:01.831Z"
   },
   {
    "duration": 5357,
    "start_time": "2023-04-03T11:24:11.481Z"
   },
   {
    "duration": 222,
    "start_time": "2023-04-03T11:24:16.841Z"
   },
   {
    "duration": 806,
    "start_time": "2023-04-03T11:24:17.065Z"
   },
   {
    "duration": 1019,
    "start_time": "2023-04-03T11:24:17.874Z"
   },
   {
    "duration": 990,
    "start_time": "2023-04-03T11:24:18.895Z"
   },
   {
    "duration": 4619,
    "start_time": "2023-04-03T11:29:14.946Z"
   },
   {
    "duration": 706,
    "start_time": "2023-04-03T11:33:45.973Z"
   },
   {
    "duration": 4524,
    "start_time": "2023-04-03T11:34:00.324Z"
   },
   {
    "duration": 4597,
    "start_time": "2023-04-03T11:34:12.271Z"
   },
   {
    "duration": 4657,
    "start_time": "2023-04-03T11:34:57.998Z"
   },
   {
    "duration": 510,
    "start_time": "2023-04-03T11:35:30.640Z"
   },
   {
    "duration": 57125,
    "start_time": "2023-04-03T11:36:00.118Z"
   },
   {
    "duration": 4480,
    "start_time": "2023-04-03T11:39:43.973Z"
   },
   {
    "duration": 320,
    "start_time": "2023-04-03T11:40:27.528Z"
   },
   {
    "duration": 568,
    "start_time": "2023-04-03T11:40:50.777Z"
   },
   {
    "duration": 58789,
    "start_time": "2023-04-03T11:41:23.090Z"
   },
   {
    "duration": 1353,
    "start_time": "2023-04-03T11:42:21.882Z"
   },
   {
    "duration": 9666,
    "start_time": "2023-04-03T11:42:36.184Z"
   },
   {
    "duration": 5304,
    "start_time": "2023-04-03T11:43:25.234Z"
   },
   {
    "duration": 227,
    "start_time": "2023-04-03T11:43:49.638Z"
   },
   {
    "duration": 762,
    "start_time": "2023-04-03T11:44:19.850Z"
   },
   {
    "duration": 592,
    "start_time": "2023-04-03T11:49:24.373Z"
   },
   {
    "duration": 670,
    "start_time": "2023-04-03T11:51:52.492Z"
   },
   {
    "duration": 552,
    "start_time": "2023-04-03T11:53:07.217Z"
   },
   {
    "duration": 571,
    "start_time": "2023-04-03T11:54:52.093Z"
   },
   {
    "duration": 261,
    "start_time": "2023-04-03T11:55:13.300Z"
   },
   {
    "duration": 265,
    "start_time": "2023-04-03T11:55:59.236Z"
   },
   {
    "duration": 575,
    "start_time": "2023-04-03T11:56:13.994Z"
   },
   {
    "duration": 54127,
    "start_time": "2023-04-03T11:58:37.665Z"
   },
   {
    "duration": 493,
    "start_time": "2023-04-03T12:01:30.788Z"
   },
   {
    "duration": 464,
    "start_time": "2023-04-03T12:02:20.230Z"
   },
   {
    "duration": 487,
    "start_time": "2023-04-03T12:03:43.360Z"
   },
   {
    "duration": 627,
    "start_time": "2023-04-03T12:10:13.866Z"
   },
   {
    "duration": 548,
    "start_time": "2023-04-03T12:10:58.230Z"
   },
   {
    "duration": 358,
    "start_time": "2023-04-03T12:11:28.509Z"
   },
   {
    "duration": 1764,
    "start_time": "2023-04-03T12:16:41.108Z"
   },
   {
    "duration": 43,
    "start_time": "2023-04-03T12:16:42.874Z"
   },
   {
    "duration": 16,
    "start_time": "2023-04-03T12:16:42.919Z"
   },
   {
    "duration": 66,
    "start_time": "2023-04-03T12:16:42.938Z"
   },
   {
    "duration": 15,
    "start_time": "2023-04-03T12:16:43.006Z"
   },
   {
    "duration": 18,
    "start_time": "2023-04-03T12:16:43.041Z"
   },
   {
    "duration": 14,
    "start_time": "2023-04-03T12:16:43.061Z"
   },
   {
    "duration": 19,
    "start_time": "2023-04-03T12:16:43.077Z"
   },
   {
    "duration": 22,
    "start_time": "2023-04-03T12:16:43.098Z"
   },
   {
    "duration": 29,
    "start_time": "2023-04-03T12:16:43.123Z"
   },
   {
    "duration": 12,
    "start_time": "2023-04-03T12:16:43.154Z"
   },
   {
    "duration": 183,
    "start_time": "2023-04-03T12:16:43.168Z"
   },
   {
    "duration": 296,
    "start_time": "2023-04-03T12:16:43.353Z"
   },
   {
    "duration": 126,
    "start_time": "2023-04-03T12:16:43.651Z"
   },
   {
    "duration": 4241,
    "start_time": "2023-04-03T12:16:43.780Z"
   },
   {
    "duration": 66876,
    "start_time": "2023-04-03T12:16:48.023Z"
   },
   {
    "duration": 770,
    "start_time": "2023-04-03T12:17:54.901Z"
   },
   {
    "duration": 4773,
    "start_time": "2023-04-03T12:17:55.673Z"
   },
   {
    "duration": 493,
    "start_time": "2023-04-03T12:18:00.448Z"
   },
   {
    "duration": 601,
    "start_time": "2023-04-03T12:18:00.943Z"
   },
   {
    "duration": 55967,
    "start_time": "2023-04-03T12:18:01.546Z"
   },
   {
    "duration": 1288,
    "start_time": "2023-04-03T12:18:57.515Z"
   },
   {
    "duration": 9484,
    "start_time": "2023-04-03T12:18:58.805Z"
   },
   {
    "duration": 5243,
    "start_time": "2023-04-03T12:19:08.291Z"
   },
   {
    "duration": 210,
    "start_time": "2023-04-03T12:19:13.535Z"
   },
   {
    "duration": 765,
    "start_time": "2023-04-03T12:19:13.747Z"
   },
   {
    "duration": 562,
    "start_time": "2023-04-03T12:19:14.513Z"
   },
   {
    "duration": 258,
    "start_time": "2023-04-03T12:19:15.078Z"
   },
   {
    "duration": 461,
    "start_time": "2023-04-03T12:19:15.338Z"
   },
   {
    "duration": 2112,
    "start_time": "2023-04-04T12:47:33.683Z"
   },
   {
    "duration": 61,
    "start_time": "2023-04-04T12:47:35.798Z"
   },
   {
    "duration": 14,
    "start_time": "2023-04-04T12:47:35.861Z"
   },
   {
    "duration": 81,
    "start_time": "2023-04-04T12:47:35.877Z"
   },
   {
    "duration": 13,
    "start_time": "2023-04-04T12:47:35.960Z"
   },
   {
    "duration": 36,
    "start_time": "2023-04-04T12:47:35.975Z"
   },
   {
    "duration": 61,
    "start_time": "2023-04-04T12:47:36.013Z"
   },
   {
    "duration": 13,
    "start_time": "2023-04-04T12:47:36.076Z"
   },
   {
    "duration": 25,
    "start_time": "2023-04-04T12:47:36.091Z"
   },
   {
    "duration": 50,
    "start_time": "2023-04-04T12:47:36.120Z"
   },
   {
    "duration": 20,
    "start_time": "2023-04-04T12:47:36.171Z"
   },
   {
    "duration": 197,
    "start_time": "2023-04-04T12:47:36.193Z"
   },
   {
    "duration": 320,
    "start_time": "2023-04-04T12:47:36.391Z"
   },
   {
    "duration": 28,
    "start_time": "2023-04-04T12:47:36.713Z"
   },
   {
    "duration": 4495,
    "start_time": "2023-04-04T18:37:29.362Z"
   },
   {
    "duration": 76,
    "start_time": "2023-04-04T18:37:33.859Z"
   },
   {
    "duration": 13,
    "start_time": "2023-04-04T18:37:33.936Z"
   },
   {
    "duration": 40,
    "start_time": "2023-04-04T18:37:33.951Z"
   },
   {
    "duration": 10,
    "start_time": "2023-04-04T18:37:33.993Z"
   },
   {
    "duration": 13,
    "start_time": "2023-04-04T18:37:34.004Z"
   },
   {
    "duration": 6,
    "start_time": "2023-04-04T18:37:34.018Z"
   },
   {
    "duration": 4,
    "start_time": "2023-04-04T18:37:34.025Z"
   },
   {
    "duration": 6,
    "start_time": "2023-04-04T18:37:34.030Z"
   },
   {
    "duration": 32,
    "start_time": "2023-04-04T18:37:34.038Z"
   },
   {
    "duration": 5,
    "start_time": "2023-04-04T18:37:34.071Z"
   },
   {
    "duration": 120,
    "start_time": "2023-04-04T18:37:34.077Z"
   },
   {
    "duration": 261,
    "start_time": "2023-04-04T18:37:34.198Z"
   },
   {
    "duration": 15,
    "start_time": "2023-04-04T18:37:34.467Z"
   },
   {
    "duration": 106,
    "start_time": "2023-04-04T18:37:34.483Z"
   },
   {
    "duration": 3181,
    "start_time": "2023-04-04T18:37:34.591Z"
   },
   {
    "duration": 43219,
    "start_time": "2023-04-04T18:37:37.774Z"
   },
   {
    "duration": 39452,
    "start_time": "2023-04-04T18:38:27.274Z"
   },
   {
    "duration": 770,
    "start_time": "2023-04-04T18:39:06.728Z"
   },
   {
    "duration": 6212,
    "start_time": "2023-04-04T18:39:07.500Z"
   },
   {
    "duration": 4211,
    "start_time": "2023-04-04T18:39:13.714Z"
   },
   {
    "duration": 165,
    "start_time": "2023-04-04T18:39:17.927Z"
   },
   {
    "duration": 549,
    "start_time": "2023-04-04T18:39:18.093Z"
   },
   {
    "duration": 538,
    "start_time": "2023-04-04T18:39:18.644Z"
   },
   {
    "duration": 192,
    "start_time": "2023-04-04T18:39:19.183Z"
   },
   {
    "duration": 335,
    "start_time": "2023-04-04T18:39:19.376Z"
   },
   {
    "duration": 5,
    "start_time": "2023-04-04T18:40:44.931Z"
   },
   {
    "duration": 4,
    "start_time": "2023-04-04T18:42:47.366Z"
   },
   {
    "duration": 32,
    "start_time": "2023-04-04T18:42:49.618Z"
   },
   {
    "duration": 12,
    "start_time": "2023-04-04T18:42:50.266Z"
   },
   {
    "duration": 105,
    "start_time": "2023-04-04T18:42:51.365Z"
   },
   {
    "duration": 11,
    "start_time": "2023-04-04T18:42:52.368Z"
   },
   {
    "duration": 12,
    "start_time": "2023-04-04T18:42:53.428Z"
   },
   {
    "duration": 6,
    "start_time": "2023-04-04T18:42:54.828Z"
   },
   {
    "duration": 4,
    "start_time": "2023-04-04T18:42:56.068Z"
   },
   {
    "duration": 5,
    "start_time": "2023-04-04T18:43:15.898Z"
   },
   {
    "duration": 5,
    "start_time": "2023-04-04T18:43:23.778Z"
   },
   {
    "duration": 8,
    "start_time": "2023-04-04T18:43:26.506Z"
   },
   {
    "duration": 9,
    "start_time": "2023-04-04T18:43:33.778Z"
   },
   {
    "duration": 8,
    "start_time": "2023-04-04T18:43:39.246Z"
   },
   {
    "duration": 54,
    "start_time": "2023-04-04T18:43:49.747Z"
   },
   {
    "duration": 1184,
    "start_time": "2023-04-04T18:43:53.635Z"
   },
   {
    "duration": 34,
    "start_time": "2023-04-04T18:43:54.821Z"
   },
   {
    "duration": 12,
    "start_time": "2023-04-04T18:43:54.870Z"
   },
   {
    "duration": 38,
    "start_time": "2023-04-04T18:43:55.976Z"
   },
   {
    "duration": 14,
    "start_time": "2023-04-04T18:43:56.699Z"
   },
   {
    "duration": 11,
    "start_time": "2023-04-04T18:43:58.518Z"
   },
   {
    "duration": 7,
    "start_time": "2023-04-04T18:43:59.576Z"
   },
   {
    "duration": 6,
    "start_time": "2023-04-04T18:44:02.087Z"
   },
   {
    "duration": 15,
    "start_time": "2023-04-04T18:44:02.127Z"
   },
   {
    "duration": 5,
    "start_time": "2023-04-04T18:44:07.519Z"
   },
   {
    "duration": 7,
    "start_time": "2023-04-04T18:44:08.598Z"
   },
   {
    "duration": 84,
    "start_time": "2023-04-04T19:10:42.619Z"
   },
   {
    "duration": 12,
    "start_time": "2023-04-04T19:11:07.687Z"
   },
   {
    "duration": 3,
    "start_time": "2023-04-04T19:11:17.276Z"
   },
   {
    "duration": 9,
    "start_time": "2023-04-04T19:12:01.403Z"
   },
   {
    "duration": 8,
    "start_time": "2023-04-04T19:12:51.451Z"
   },
   {
    "duration": 11,
    "start_time": "2023-04-04T19:12:56.088Z"
   },
   {
    "duration": 8,
    "start_time": "2023-04-04T19:12:57.303Z"
   },
   {
    "duration": 15,
    "start_time": "2023-04-04T19:15:05.848Z"
   },
   {
    "duration": 7,
    "start_time": "2023-04-04T19:15:15.016Z"
   },
   {
    "duration": 91,
    "start_time": "2023-04-04T19:17:31.222Z"
   },
   {
    "duration": 108,
    "start_time": "2023-04-04T19:19:08.745Z"
   },
   {
    "duration": 3,
    "start_time": "2023-04-04T19:29:01.343Z"
   },
   {
    "duration": 46,
    "start_time": "2023-04-04T19:29:01.349Z"
   },
   {
    "duration": 12,
    "start_time": "2023-04-04T19:29:01.396Z"
   },
   {
    "duration": 43,
    "start_time": "2023-04-04T19:29:01.410Z"
   },
   {
    "duration": 16,
    "start_time": "2023-04-04T19:29:01.456Z"
   },
   {
    "duration": 16,
    "start_time": "2023-04-04T19:29:01.474Z"
   },
   {
    "duration": 23,
    "start_time": "2023-04-04T19:29:01.491Z"
   },
   {
    "duration": 12,
    "start_time": "2023-04-04T19:29:01.516Z"
   },
   {
    "duration": 14,
    "start_time": "2023-04-04T19:29:01.529Z"
   },
   {
    "duration": 52,
    "start_time": "2023-04-04T19:29:01.544Z"
   },
   {
    "duration": 25,
    "start_time": "2023-04-04T19:29:01.598Z"
   },
   {
    "duration": 32,
    "start_time": "2023-04-04T19:29:01.624Z"
   },
   {
    "duration": 14,
    "start_time": "2023-04-04T19:29:01.657Z"
   },
   {
    "duration": 130,
    "start_time": "2023-04-04T19:29:01.673Z"
   },
   {
    "duration": 10,
    "start_time": "2023-04-04T19:29:01.805Z"
   },
   {
    "duration": 26,
    "start_time": "2023-04-04T19:29:01.816Z"
   },
   {
    "duration": 31,
    "start_time": "2023-04-04T19:29:01.844Z"
   },
   {
    "duration": 46,
    "start_time": "2023-04-04T19:29:01.877Z"
   },
   {
    "duration": 0,
    "start_time": "2023-04-04T19:29:01.925Z"
   },
   {
    "duration": 0,
    "start_time": "2023-04-04T19:29:01.927Z"
   },
   {
    "duration": 0,
    "start_time": "2023-04-04T19:29:01.928Z"
   },
   {
    "duration": 0,
    "start_time": "2023-04-04T19:29:01.929Z"
   },
   {
    "duration": 0,
    "start_time": "2023-04-04T19:29:01.930Z"
   },
   {
    "duration": 0,
    "start_time": "2023-04-04T19:29:01.932Z"
   },
   {
    "duration": 0,
    "start_time": "2023-04-04T19:29:01.933Z"
   },
   {
    "duration": 0,
    "start_time": "2023-04-04T19:29:01.934Z"
   },
   {
    "duration": 0,
    "start_time": "2023-04-04T19:29:01.936Z"
   },
   {
    "duration": 0,
    "start_time": "2023-04-04T19:29:01.937Z"
   },
   {
    "duration": 0,
    "start_time": "2023-04-04T19:29:01.938Z"
   },
   {
    "duration": 0,
    "start_time": "2023-04-04T19:29:01.940Z"
   },
   {
    "duration": 0,
    "start_time": "2023-04-04T19:29:01.940Z"
   },
   {
    "duration": 0,
    "start_time": "2023-04-04T19:29:01.942Z"
   },
   {
    "duration": 0,
    "start_time": "2023-04-04T19:29:01.943Z"
   },
   {
    "duration": 14,
    "start_time": "2023-04-04T19:30:10.654Z"
   },
   {
    "duration": 1185,
    "start_time": "2023-04-04T19:30:28.145Z"
   },
   {
    "duration": 35,
    "start_time": "2023-04-04T19:30:29.332Z"
   },
   {
    "duration": 13,
    "start_time": "2023-04-04T19:30:29.369Z"
   },
   {
    "duration": 40,
    "start_time": "2023-04-04T19:30:29.384Z"
   },
   {
    "duration": 12,
    "start_time": "2023-04-04T19:30:29.426Z"
   },
   {
    "duration": 35,
    "start_time": "2023-04-04T19:30:29.440Z"
   },
   {
    "duration": 5,
    "start_time": "2023-04-04T19:30:29.477Z"
   },
   {
    "duration": 4,
    "start_time": "2023-04-04T19:30:29.484Z"
   },
   {
    "duration": 8,
    "start_time": "2023-04-04T19:30:29.490Z"
   },
   {
    "duration": 18,
    "start_time": "2023-04-04T19:30:29.500Z"
   },
   {
    "duration": 3,
    "start_time": "2023-04-04T19:30:29.520Z"
   },
   {
    "duration": 14,
    "start_time": "2023-04-04T19:30:29.524Z"
   },
   {
    "duration": 4,
    "start_time": "2023-04-04T19:30:29.540Z"
   },
   {
    "duration": 134,
    "start_time": "2023-04-04T19:30:29.546Z"
   },
   {
    "duration": 10,
    "start_time": "2023-04-04T19:30:29.682Z"
   },
   {
    "duration": 10,
    "start_time": "2023-04-04T19:30:29.694Z"
   },
   {
    "duration": 11,
    "start_time": "2023-04-04T19:30:29.705Z"
   },
   {
    "duration": 44,
    "start_time": "2023-04-04T19:30:29.717Z"
   },
   {
    "duration": 0,
    "start_time": "2023-04-04T19:30:29.763Z"
   },
   {
    "duration": 0,
    "start_time": "2023-04-04T19:30:29.764Z"
   },
   {
    "duration": 0,
    "start_time": "2023-04-04T19:30:29.766Z"
   },
   {
    "duration": 0,
    "start_time": "2023-04-04T19:30:29.767Z"
   },
   {
    "duration": 0,
    "start_time": "2023-04-04T19:30:29.768Z"
   },
   {
    "duration": 0,
    "start_time": "2023-04-04T19:30:29.770Z"
   },
   {
    "duration": 0,
    "start_time": "2023-04-04T19:30:29.770Z"
   },
   {
    "duration": 0,
    "start_time": "2023-04-04T19:30:29.771Z"
   },
   {
    "duration": 0,
    "start_time": "2023-04-04T19:30:29.772Z"
   },
   {
    "duration": 0,
    "start_time": "2023-04-04T19:30:29.774Z"
   },
   {
    "duration": 0,
    "start_time": "2023-04-04T19:30:29.776Z"
   },
   {
    "duration": 0,
    "start_time": "2023-04-04T19:30:29.777Z"
   },
   {
    "duration": 0,
    "start_time": "2023-04-04T19:30:29.778Z"
   },
   {
    "duration": 0,
    "start_time": "2023-04-04T19:30:29.779Z"
   },
   {
    "duration": 0,
    "start_time": "2023-04-04T19:30:29.780Z"
   },
   {
    "duration": 107,
    "start_time": "2023-04-04T19:30:43.571Z"
   },
   {
    "duration": 11,
    "start_time": "2023-04-04T19:30:47.801Z"
   },
   {
    "duration": 11,
    "start_time": "2023-04-04T19:31:05.438Z"
   },
   {
    "duration": 14,
    "start_time": "2023-04-04T19:31:08.563Z"
   },
   {
    "duration": 11,
    "start_time": "2023-04-04T19:31:17.309Z"
   },
   {
    "duration": 11,
    "start_time": "2023-04-04T19:31:48.493Z"
   },
   {
    "duration": 6,
    "start_time": "2023-04-04T19:31:54.799Z"
   },
   {
    "duration": 7,
    "start_time": "2023-04-04T19:31:58.138Z"
   },
   {
    "duration": 11,
    "start_time": "2023-04-04T19:32:01.421Z"
   },
   {
    "duration": 43,
    "start_time": "2023-04-04T19:32:05.380Z"
   },
   {
    "duration": 43,
    "start_time": "2023-04-04T19:34:10.539Z"
   },
   {
    "duration": 17,
    "start_time": "2023-04-04T19:34:32.470Z"
   },
   {
    "duration": 1356,
    "start_time": "2023-04-04T19:34:42.523Z"
   },
   {
    "duration": 34,
    "start_time": "2023-04-04T19:34:43.881Z"
   },
   {
    "duration": 12,
    "start_time": "2023-04-04T19:34:43.917Z"
   },
   {
    "duration": 38,
    "start_time": "2023-04-04T19:34:43.930Z"
   },
   {
    "duration": 10,
    "start_time": "2023-04-04T19:34:43.971Z"
   },
   {
    "duration": 13,
    "start_time": "2023-04-04T19:34:43.983Z"
   },
   {
    "duration": 9,
    "start_time": "2023-04-04T19:34:43.998Z"
   },
   {
    "duration": 27,
    "start_time": "2023-04-04T19:34:44.008Z"
   },
   {
    "duration": 9,
    "start_time": "2023-04-04T19:34:44.036Z"
   },
   {
    "duration": 22,
    "start_time": "2023-04-04T19:34:44.047Z"
   },
   {
    "duration": 4,
    "start_time": "2023-04-04T19:34:44.071Z"
   },
   {
    "duration": 13,
    "start_time": "2023-04-04T19:34:44.077Z"
   },
   {
    "duration": 8,
    "start_time": "2023-04-04T19:34:44.091Z"
   },
   {
    "duration": 136,
    "start_time": "2023-04-04T19:34:44.101Z"
   },
   {
    "duration": 11,
    "start_time": "2023-04-04T19:34:44.238Z"
   },
   {
    "duration": 23,
    "start_time": "2023-04-04T19:34:44.250Z"
   },
   {
    "duration": 8,
    "start_time": "2023-04-04T19:34:44.275Z"
   },
   {
    "duration": 46,
    "start_time": "2023-04-04T19:34:44.284Z"
   },
   {
    "duration": 0,
    "start_time": "2023-04-04T19:34:44.332Z"
   },
   {
    "duration": 0,
    "start_time": "2023-04-04T19:34:44.333Z"
   },
   {
    "duration": 0,
    "start_time": "2023-04-04T19:34:44.334Z"
   },
   {
    "duration": 0,
    "start_time": "2023-04-04T19:34:44.335Z"
   },
   {
    "duration": 0,
    "start_time": "2023-04-04T19:34:44.337Z"
   },
   {
    "duration": 0,
    "start_time": "2023-04-04T19:34:44.337Z"
   },
   {
    "duration": 0,
    "start_time": "2023-04-04T19:34:44.338Z"
   },
   {
    "duration": 0,
    "start_time": "2023-04-04T19:34:44.339Z"
   },
   {
    "duration": 0,
    "start_time": "2023-04-04T19:34:44.340Z"
   },
   {
    "duration": 0,
    "start_time": "2023-04-04T19:34:44.341Z"
   },
   {
    "duration": 0,
    "start_time": "2023-04-04T19:34:44.342Z"
   },
   {
    "duration": 0,
    "start_time": "2023-04-04T19:34:44.343Z"
   },
   {
    "duration": 0,
    "start_time": "2023-04-04T19:34:44.344Z"
   },
   {
    "duration": 0,
    "start_time": "2023-04-04T19:34:44.345Z"
   },
   {
    "duration": 0,
    "start_time": "2023-04-04T19:34:44.346Z"
   },
   {
    "duration": 97,
    "start_time": "2023-04-04T19:35:05.179Z"
   },
   {
    "duration": 97,
    "start_time": "2023-04-04T19:35:16.171Z"
   },
   {
    "duration": 10,
    "start_time": "2023-04-04T19:36:50.696Z"
   },
   {
    "duration": 28,
    "start_time": "2023-04-04T19:37:30.191Z"
   },
   {
    "duration": 23,
    "start_time": "2023-04-04T19:38:23.570Z"
   },
   {
    "duration": 142,
    "start_time": "2023-04-04T19:42:59.029Z"
   },
   {
    "duration": 11,
    "start_time": "2023-04-04T19:47:14.942Z"
   },
   {
    "duration": 141,
    "start_time": "2023-04-04T19:53:32.322Z"
   },
   {
    "duration": 3655,
    "start_time": "2023-04-04T20:03:52.892Z"
   },
   {
    "duration": 164,
    "start_time": "2023-04-04T21:06:21.742Z"
   },
   {
    "duration": 162,
    "start_time": "2023-04-04T21:06:59.437Z"
   },
   {
    "duration": 4237,
    "start_time": "2023-04-04T21:13:07.953Z"
   },
   {
    "duration": 21,
    "start_time": "2023-04-04T21:17:06.341Z"
   },
   {
    "duration": 124,
    "start_time": "2023-04-04T21:21:46.047Z"
   },
   {
    "duration": 22,
    "start_time": "2023-04-04T21:24:30.723Z"
   },
   {
    "duration": 19,
    "start_time": "2023-04-04T21:26:18.258Z"
   },
   {
    "duration": 16,
    "start_time": "2023-04-04T21:26:35.881Z"
   },
   {
    "duration": 540,
    "start_time": "2023-04-04T21:35:03.751Z"
   },
   {
    "duration": 527,
    "start_time": "2023-04-04T21:36:23.335Z"
   },
   {
    "duration": 108,
    "start_time": "2023-04-04T21:36:25.766Z"
   },
   {
    "duration": 55,
    "start_time": "2023-04-04T21:37:43.119Z"
   },
   {
    "duration": 18,
    "start_time": "2023-04-04T21:37:46.721Z"
   },
   {
    "duration": 28,
    "start_time": "2023-04-04T21:37:48.010Z"
   },
   {
    "duration": 248,
    "start_time": "2023-04-04T21:39:31.728Z"
   },
   {
    "duration": 128,
    "start_time": "2023-04-04T21:39:38.991Z"
   },
   {
    "duration": 179,
    "start_time": "2023-04-04T21:39:43.091Z"
   },
   {
    "duration": 164,
    "start_time": "2023-04-04T21:49:07.296Z"
   },
   {
    "duration": 161,
    "start_time": "2023-04-04T21:49:22.905Z"
   },
   {
    "duration": 164,
    "start_time": "2023-04-04T21:53:03.456Z"
   },
   {
    "duration": 1202,
    "start_time": "2023-04-04T21:57:12.839Z"
   },
   {
    "duration": 34,
    "start_time": "2023-04-04T21:57:14.043Z"
   },
   {
    "duration": 10,
    "start_time": "2023-04-04T21:57:14.079Z"
   },
   {
    "duration": 38,
    "start_time": "2023-04-04T21:57:14.091Z"
   },
   {
    "duration": 11,
    "start_time": "2023-04-04T21:57:14.131Z"
   },
   {
    "duration": 25,
    "start_time": "2023-04-04T21:57:14.143Z"
   },
   {
    "duration": 6,
    "start_time": "2023-04-04T21:57:14.170Z"
   },
   {
    "duration": 4,
    "start_time": "2023-04-04T21:57:14.178Z"
   },
   {
    "duration": 6,
    "start_time": "2023-04-04T21:57:14.183Z"
   },
   {
    "duration": 10,
    "start_time": "2023-04-04T21:57:14.191Z"
   },
   {
    "duration": 4,
    "start_time": "2023-04-04T21:57:14.202Z"
   },
   {
    "duration": 11,
    "start_time": "2023-04-04T21:57:14.207Z"
   },
   {
    "duration": 4,
    "start_time": "2023-04-04T21:57:14.220Z"
   },
   {
    "duration": 111,
    "start_time": "2023-04-04T21:57:14.268Z"
   },
   {
    "duration": 10,
    "start_time": "2023-04-04T21:57:14.380Z"
   },
   {
    "duration": 8,
    "start_time": "2023-04-04T21:57:14.392Z"
   },
   {
    "duration": 7,
    "start_time": "2023-04-04T21:57:14.401Z"
   },
   {
    "duration": 30,
    "start_time": "2023-04-04T21:57:14.410Z"
   },
   {
    "duration": 171,
    "start_time": "2023-04-04T21:57:14.442Z"
   },
   {
    "duration": 4245,
    "start_time": "2023-04-04T21:57:14.615Z"
   },
   {
    "duration": 23,
    "start_time": "2023-04-04T21:57:18.862Z"
   },
   {
    "duration": 285,
    "start_time": "2023-04-04T21:57:18.887Z"
   },
   {
    "duration": 103,
    "start_time": "2023-04-04T21:57:19.174Z"
   },
   {
    "duration": 194,
    "start_time": "2023-04-04T21:57:19.278Z"
   },
   {
    "duration": 695,
    "start_time": "2023-04-04T21:57:19.473Z"
   },
   {
    "duration": 112,
    "start_time": "2023-04-04T21:57:20.169Z"
   },
   {
    "duration": 527,
    "start_time": "2023-04-04T21:57:20.282Z"
   },
   {
    "duration": 59,
    "start_time": "2023-04-04T21:57:20.810Z"
   },
   {
    "duration": 17,
    "start_time": "2023-04-04T21:57:20.871Z"
   },
   {
    "duration": 24,
    "start_time": "2023-04-04T21:57:20.889Z"
   },
   {
    "duration": 255,
    "start_time": "2023-04-04T21:57:20.915Z"
   },
   {
    "duration": 125,
    "start_time": "2023-04-04T21:57:21.172Z"
   },
   {
    "duration": 180,
    "start_time": "2023-04-04T21:57:21.299Z"
   },
   {
    "duration": 4543,
    "start_time": "2023-04-04T22:04:32.811Z"
   },
   {
    "duration": 4850,
    "start_time": "2023-04-04T22:06:10.220Z"
   },
   {
    "duration": 649,
    "start_time": "2023-04-04T22:06:38.566Z"
   },
   {
    "duration": 184,
    "start_time": "2023-04-04T22:06:50.921Z"
   },
   {
    "duration": 4753,
    "start_time": "2023-04-04T22:08:58.667Z"
   },
   {
    "duration": 131,
    "start_time": "2023-04-04T22:09:28.938Z"
   },
   {
    "duration": 231,
    "start_time": "2023-04-04T22:09:38.889Z"
   },
   {
    "duration": 17250,
    "start_time": "2023-04-04T22:10:17.568Z"
   },
   {
    "duration": 251,
    "start_time": "2023-04-04T22:11:27.866Z"
   },
   {
    "duration": 196,
    "start_time": "2023-04-04T22:11:38.566Z"
   },
   {
    "duration": 785,
    "start_time": "2023-04-04T22:11:51.395Z"
   },
   {
    "duration": 4441,
    "start_time": "2023-04-04T22:11:57.312Z"
   },
   {
    "duration": 548,
    "start_time": "2023-04-04T22:12:28.190Z"
   },
   {
    "duration": 381,
    "start_time": "2023-04-04T22:13:19.914Z"
   },
   {
    "duration": 123,
    "start_time": "2023-04-04T22:13:43.991Z"
   },
   {
    "duration": 672,
    "start_time": "2023-04-04T22:13:46.424Z"
   },
   {
    "duration": 535,
    "start_time": "2023-04-04T22:13:52.596Z"
   },
   {
    "duration": 58,
    "start_time": "2023-04-04T22:14:04.681Z"
   },
   {
    "duration": 171,
    "start_time": "2023-04-04T22:14:18.314Z"
   },
   {
    "duration": 803,
    "start_time": "2023-04-04T22:14:27.235Z"
   },
   {
    "duration": 274,
    "start_time": "2023-04-04T22:14:45.080Z"
   },
   {
    "duration": 67,
    "start_time": "2023-04-04T22:14:47.434Z"
   },
   {
    "duration": 144,
    "start_time": "2023-04-04T22:14:56.424Z"
   },
   {
    "duration": 17257,
    "start_time": "2023-04-04T22:15:10.016Z"
   },
   {
    "duration": 186,
    "start_time": "2023-04-04T22:15:56.800Z"
   },
   {
    "duration": 1019,
    "start_time": "2023-04-04T22:15:59.311Z"
   },
   {
    "duration": 612,
    "start_time": "2023-04-04T22:16:07.716Z"
   },
   {
    "duration": 207,
    "start_time": "2023-04-04T22:16:18.800Z"
   },
   {
    "duration": 1235,
    "start_time": "2023-04-04T22:16:26.678Z"
   },
   {
    "duration": 43,
    "start_time": "2023-04-04T22:16:27.915Z"
   },
   {
    "duration": 12,
    "start_time": "2023-04-04T22:16:27.960Z"
   },
   {
    "duration": 41,
    "start_time": "2023-04-04T22:16:27.973Z"
   },
   {
    "duration": 11,
    "start_time": "2023-04-04T22:16:28.016Z"
   },
   {
    "duration": 17,
    "start_time": "2023-04-04T22:16:28.028Z"
   },
   {
    "duration": 27,
    "start_time": "2023-04-04T22:16:28.046Z"
   },
   {
    "duration": 5,
    "start_time": "2023-04-04T22:16:28.075Z"
   },
   {
    "duration": 8,
    "start_time": "2023-04-04T22:16:28.081Z"
   },
   {
    "duration": 11,
    "start_time": "2023-04-04T22:16:28.091Z"
   },
   {
    "duration": 4,
    "start_time": "2023-04-04T22:16:28.103Z"
   },
   {
    "duration": 15,
    "start_time": "2023-04-04T22:16:28.108Z"
   },
   {
    "duration": 4,
    "start_time": "2023-04-04T22:16:28.125Z"
   },
   {
    "duration": 143,
    "start_time": "2023-04-04T22:16:28.131Z"
   },
   {
    "duration": 11,
    "start_time": "2023-04-04T22:16:28.276Z"
   },
   {
    "duration": 10,
    "start_time": "2023-04-04T22:16:28.288Z"
   },
   {
    "duration": 9,
    "start_time": "2023-04-04T22:16:28.300Z"
   },
   {
    "duration": 28,
    "start_time": "2023-04-04T22:16:28.311Z"
   },
   {
    "duration": 198,
    "start_time": "2023-04-04T22:16:28.340Z"
   },
   {
    "duration": 18198,
    "start_time": "2023-04-04T22:16:28.540Z"
   },
   {
    "duration": 0,
    "start_time": "2023-04-04T22:16:46.740Z"
   },
   {
    "duration": 0,
    "start_time": "2023-04-04T22:16:46.741Z"
   },
   {
    "duration": 0,
    "start_time": "2023-04-04T22:16:46.742Z"
   },
   {
    "duration": 0,
    "start_time": "2023-04-04T22:16:46.744Z"
   },
   {
    "duration": 0,
    "start_time": "2023-04-04T22:16:46.745Z"
   },
   {
    "duration": 0,
    "start_time": "2023-04-04T22:16:46.747Z"
   },
   {
    "duration": 0,
    "start_time": "2023-04-04T22:16:46.748Z"
   },
   {
    "duration": 0,
    "start_time": "2023-04-04T22:16:46.749Z"
   },
   {
    "duration": 0,
    "start_time": "2023-04-04T22:16:46.768Z"
   },
   {
    "duration": 0,
    "start_time": "2023-04-04T22:16:46.769Z"
   },
   {
    "duration": 0,
    "start_time": "2023-04-04T22:16:46.771Z"
   },
   {
    "duration": 0,
    "start_time": "2023-04-04T22:16:46.773Z"
   },
   {
    "duration": 0,
    "start_time": "2023-04-04T22:16:46.774Z"
   },
   {
    "duration": 1307,
    "start_time": "2023-04-04T22:18:16.054Z"
   },
   {
    "duration": 34,
    "start_time": "2023-04-04T22:18:17.363Z"
   },
   {
    "duration": 11,
    "start_time": "2023-04-04T22:18:17.399Z"
   },
   {
    "duration": 36,
    "start_time": "2023-04-04T22:18:17.411Z"
   },
   {
    "duration": 10,
    "start_time": "2023-04-04T22:18:17.450Z"
   },
   {
    "duration": 14,
    "start_time": "2023-04-04T22:18:17.461Z"
   },
   {
    "duration": 6,
    "start_time": "2023-04-04T22:18:17.477Z"
   },
   {
    "duration": 4,
    "start_time": "2023-04-04T22:18:17.485Z"
   },
   {
    "duration": 6,
    "start_time": "2023-04-04T22:18:17.490Z"
   },
   {
    "duration": 11,
    "start_time": "2023-04-04T22:18:17.497Z"
   },
   {
    "duration": 3,
    "start_time": "2023-04-04T22:18:17.509Z"
   },
   {
    "duration": 12,
    "start_time": "2023-04-04T22:18:17.513Z"
   },
   {
    "duration": 4,
    "start_time": "2023-04-04T22:18:17.526Z"
   },
   {
    "duration": 145,
    "start_time": "2023-04-04T22:18:17.532Z"
   },
   {
    "duration": 10,
    "start_time": "2023-04-04T22:18:17.679Z"
   },
   {
    "duration": 8,
    "start_time": "2023-04-04T22:18:17.690Z"
   },
   {
    "duration": 13,
    "start_time": "2023-04-04T22:18:17.699Z"
   },
   {
    "duration": 25,
    "start_time": "2023-04-04T22:18:17.713Z"
   },
   {
    "duration": 188,
    "start_time": "2023-04-04T22:18:17.740Z"
   },
   {
    "duration": 16981,
    "start_time": "2023-04-04T22:18:17.929Z"
   },
   {
    "duration": 0,
    "start_time": "2023-04-04T22:18:34.911Z"
   },
   {
    "duration": 0,
    "start_time": "2023-04-04T22:18:34.913Z"
   },
   {
    "duration": 0,
    "start_time": "2023-04-04T22:18:34.914Z"
   },
   {
    "duration": 0,
    "start_time": "2023-04-04T22:18:34.915Z"
   },
   {
    "duration": 0,
    "start_time": "2023-04-04T22:18:34.916Z"
   },
   {
    "duration": 0,
    "start_time": "2023-04-04T22:18:34.917Z"
   },
   {
    "duration": 0,
    "start_time": "2023-04-04T22:18:34.918Z"
   },
   {
    "duration": 0,
    "start_time": "2023-04-04T22:18:34.919Z"
   },
   {
    "duration": 0,
    "start_time": "2023-04-04T22:18:34.920Z"
   },
   {
    "duration": 0,
    "start_time": "2023-04-04T22:18:34.921Z"
   },
   {
    "duration": 0,
    "start_time": "2023-04-04T22:18:34.922Z"
   },
   {
    "duration": 0,
    "start_time": "2023-04-04T22:18:34.923Z"
   },
   {
    "duration": 0,
    "start_time": "2023-04-04T22:18:34.924Z"
   },
   {
    "duration": 1258,
    "start_time": "2023-04-04T22:19:20.148Z"
   },
   {
    "duration": 35,
    "start_time": "2023-04-04T22:19:21.408Z"
   },
   {
    "duration": 11,
    "start_time": "2023-04-04T22:19:21.444Z"
   },
   {
    "duration": 37,
    "start_time": "2023-04-04T22:19:21.457Z"
   },
   {
    "duration": 10,
    "start_time": "2023-04-04T22:19:21.496Z"
   },
   {
    "duration": 11,
    "start_time": "2023-04-04T22:19:21.508Z"
   },
   {
    "duration": 5,
    "start_time": "2023-04-04T22:19:21.520Z"
   },
   {
    "duration": 4,
    "start_time": "2023-04-04T22:19:21.526Z"
   },
   {
    "duration": 7,
    "start_time": "2023-04-04T22:19:21.531Z"
   },
   {
    "duration": 33,
    "start_time": "2023-04-04T22:19:21.539Z"
   },
   {
    "duration": 4,
    "start_time": "2023-04-04T22:19:21.573Z"
   },
   {
    "duration": 12,
    "start_time": "2023-04-04T22:19:21.578Z"
   },
   {
    "duration": 4,
    "start_time": "2023-04-04T22:19:21.591Z"
   },
   {
    "duration": 122,
    "start_time": "2023-04-04T22:19:21.598Z"
   },
   {
    "duration": 10,
    "start_time": "2023-04-04T22:19:21.721Z"
   },
   {
    "duration": 8,
    "start_time": "2023-04-04T22:19:21.732Z"
   },
   {
    "duration": 21,
    "start_time": "2023-04-04T22:19:21.741Z"
   },
   {
    "duration": 27,
    "start_time": "2023-04-04T22:19:21.764Z"
   },
   {
    "duration": 165,
    "start_time": "2023-04-04T22:19:21.793Z"
   },
   {
    "duration": 17457,
    "start_time": "2023-04-04T22:19:21.960Z"
   },
   {
    "duration": 60,
    "start_time": "2023-04-04T22:19:39.419Z"
   },
   {
    "duration": 148,
    "start_time": "2023-04-04T22:19:39.569Z"
   },
   {
    "duration": 106,
    "start_time": "2023-04-04T22:19:39.770Z"
   },
   {
    "duration": 194,
    "start_time": "2023-04-04T22:19:39.878Z"
   },
   {
    "duration": 1128,
    "start_time": "2023-04-04T22:19:40.074Z"
   },
   {
    "duration": 194,
    "start_time": "2023-04-04T22:19:41.204Z"
   },
   {
    "duration": 583,
    "start_time": "2023-04-04T22:19:41.400Z"
   },
   {
    "duration": 55,
    "start_time": "2023-04-04T22:19:41.985Z"
   },
   {
    "duration": 32,
    "start_time": "2023-04-04T22:19:42.042Z"
   },
   {
    "duration": 25,
    "start_time": "2023-04-04T22:19:42.075Z"
   },
   {
    "duration": 292,
    "start_time": "2023-04-04T22:19:42.102Z"
   },
   {
    "duration": 189,
    "start_time": "2023-04-04T22:19:42.398Z"
   },
   {
    "duration": 245,
    "start_time": "2023-04-04T22:19:42.589Z"
   },
   {
    "duration": 1592,
    "start_time": "2023-04-05T10:26:24.161Z"
   },
   {
    "duration": 78,
    "start_time": "2023-04-05T10:26:25.755Z"
   },
   {
    "duration": 15,
    "start_time": "2023-04-05T10:26:25.836Z"
   },
   {
    "duration": 46,
    "start_time": "2023-04-05T10:26:25.853Z"
   },
   {
    "duration": 13,
    "start_time": "2023-04-05T10:26:25.902Z"
   },
   {
    "duration": 16,
    "start_time": "2023-04-05T10:26:25.917Z"
   },
   {
    "duration": 8,
    "start_time": "2023-04-05T10:26:25.935Z"
   },
   {
    "duration": 5,
    "start_time": "2023-04-05T10:26:25.944Z"
   },
   {
    "duration": 17,
    "start_time": "2023-04-05T10:26:25.951Z"
   },
   {
    "duration": 12,
    "start_time": "2023-04-05T10:26:25.970Z"
   },
   {
    "duration": 10,
    "start_time": "2023-04-05T10:26:25.983Z"
   },
   {
    "duration": 39,
    "start_time": "2023-04-05T10:26:25.994Z"
   },
   {
    "duration": 6,
    "start_time": "2023-04-05T10:26:26.034Z"
   },
   {
    "duration": 150,
    "start_time": "2023-04-05T10:26:26.043Z"
   },
   {
    "duration": 13,
    "start_time": "2023-04-05T10:26:26.195Z"
   },
   {
    "duration": 22,
    "start_time": "2023-04-05T10:26:26.210Z"
   },
   {
    "duration": 9,
    "start_time": "2023-04-05T10:26:26.234Z"
   },
   {
    "duration": 33,
    "start_time": "2023-04-05T10:26:26.246Z"
   },
   {
    "duration": 264,
    "start_time": "2023-04-05T10:26:26.281Z"
   },
   {
    "duration": 23641,
    "start_time": "2023-04-05T10:26:26.547Z"
   },
   {
    "duration": 133,
    "start_time": "2023-04-05T10:26:50.191Z"
   },
   {
    "duration": 206,
    "start_time": "2023-04-05T10:26:50.327Z"
   },
   {
    "duration": 109,
    "start_time": "2023-04-05T10:26:50.536Z"
   },
   {
    "duration": 279,
    "start_time": "2023-04-05T10:26:50.647Z"
   },
   {
    "duration": 1488,
    "start_time": "2023-04-05T10:26:50.929Z"
   },
   {
    "duration": 241,
    "start_time": "2023-04-05T10:26:52.418Z"
   },
   {
    "duration": 782,
    "start_time": "2023-04-05T10:26:52.661Z"
   },
   {
    "duration": 82,
    "start_time": "2023-04-05T10:26:53.445Z"
   },
   {
    "duration": 23,
    "start_time": "2023-04-05T10:26:53.529Z"
   },
   {
    "duration": 38,
    "start_time": "2023-04-05T10:26:53.554Z"
   },
   {
    "duration": 360,
    "start_time": "2023-04-05T10:26:53.594Z"
   },
   {
    "duration": 160,
    "start_time": "2023-04-05T10:26:53.956Z"
   },
   {
    "duration": 258,
    "start_time": "2023-04-05T10:26:54.118Z"
   },
   {
    "duration": 17,
    "start_time": "2023-04-05T10:27:30.242Z"
   },
   {
    "duration": 138,
    "start_time": "2023-04-05T10:28:09.208Z"
   },
   {
    "duration": 1576,
    "start_time": "2023-04-05T10:28:19.927Z"
   },
   {
    "duration": 37,
    "start_time": "2023-04-05T10:28:21.505Z"
   },
   {
    "duration": 15,
    "start_time": "2023-04-05T10:28:21.544Z"
   },
   {
    "duration": 48,
    "start_time": "2023-04-05T10:28:21.561Z"
   },
   {
    "duration": 15,
    "start_time": "2023-04-05T10:28:21.625Z"
   },
   {
    "duration": 22,
    "start_time": "2023-04-05T10:28:21.642Z"
   },
   {
    "duration": 26,
    "start_time": "2023-04-05T10:28:21.666Z"
   },
   {
    "duration": 14,
    "start_time": "2023-04-05T10:28:21.694Z"
   },
   {
    "duration": 17,
    "start_time": "2023-04-05T10:28:21.710Z"
   },
   {
    "duration": 32,
    "start_time": "2023-04-05T10:28:21.729Z"
   },
   {
    "duration": 6,
    "start_time": "2023-04-05T10:28:21.763Z"
   },
   {
    "duration": 29,
    "start_time": "2023-04-05T10:28:21.770Z"
   },
   {
    "duration": 5,
    "start_time": "2023-04-05T10:28:21.800Z"
   },
   {
    "duration": 137,
    "start_time": "2023-04-05T10:28:21.808Z"
   },
   {
    "duration": 12,
    "start_time": "2023-04-05T10:28:21.948Z"
   },
   {
    "duration": 20,
    "start_time": "2023-04-05T10:28:21.962Z"
   },
   {
    "duration": 27,
    "start_time": "2023-04-05T10:28:21.983Z"
   },
   {
    "duration": 44,
    "start_time": "2023-04-05T10:28:22.012Z"
   },
   {
    "duration": 255,
    "start_time": "2023-04-05T10:28:22.058Z"
   },
   {
    "duration": 25808,
    "start_time": "2023-04-05T10:28:22.315Z"
   },
   {
    "duration": 25,
    "start_time": "2023-04-05T10:28:48.126Z"
   },
   {
    "duration": 138,
    "start_time": "2023-04-05T10:28:48.225Z"
   },
   {
    "duration": 170,
    "start_time": "2023-04-05T10:28:48.364Z"
   },
   {
    "duration": 200,
    "start_time": "2023-04-05T10:28:48.536Z"
   },
   {
    "duration": 1713,
    "start_time": "2023-04-05T10:28:48.738Z"
   },
   {
    "duration": 284,
    "start_time": "2023-04-05T10:28:50.452Z"
   },
   {
    "duration": 833,
    "start_time": "2023-04-05T10:28:50.737Z"
   },
   {
    "duration": 79,
    "start_time": "2023-04-05T10:28:51.572Z"
   },
   {
    "duration": 23,
    "start_time": "2023-04-05T10:28:51.653Z"
   },
   {
    "duration": 54,
    "start_time": "2023-04-05T10:28:51.678Z"
   },
   {
    "duration": 317,
    "start_time": "2023-04-05T10:28:51.734Z"
   },
   {
    "duration": 170,
    "start_time": "2023-04-05T10:28:52.054Z"
   },
   {
    "duration": 249,
    "start_time": "2023-04-05T10:28:52.226Z"
   },
   {
    "duration": 40,
    "start_time": "2023-04-05T10:30:10.402Z"
   },
   {
    "duration": 303,
    "start_time": "2023-04-05T10:30:55.358Z"
   },
   {
    "duration": 58,
    "start_time": "2023-04-05T14:48:04.730Z"
   },
   {
    "duration": 1719,
    "start_time": "2023-04-05T14:48:08.217Z"
   },
   {
    "duration": 76,
    "start_time": "2023-04-05T14:48:09.938Z"
   },
   {
    "duration": 14,
    "start_time": "2023-04-05T14:48:10.016Z"
   },
   {
    "duration": 48,
    "start_time": "2023-04-05T14:48:10.031Z"
   },
   {
    "duration": 14,
    "start_time": "2023-04-05T14:48:10.081Z"
   },
   {
    "duration": 30,
    "start_time": "2023-04-05T14:48:10.097Z"
   },
   {
    "duration": 8,
    "start_time": "2023-04-05T14:48:10.129Z"
   },
   {
    "duration": 6,
    "start_time": "2023-04-05T14:48:10.139Z"
   },
   {
    "duration": 20,
    "start_time": "2023-04-05T14:48:10.147Z"
   },
   {
    "duration": 12,
    "start_time": "2023-04-05T14:48:10.168Z"
   },
   {
    "duration": 4,
    "start_time": "2023-04-05T14:48:10.182Z"
   },
   {
    "duration": 43,
    "start_time": "2023-04-05T14:48:10.187Z"
   },
   {
    "duration": 7,
    "start_time": "2023-04-05T14:48:10.233Z"
   },
   {
    "duration": 200,
    "start_time": "2023-04-05T14:48:10.244Z"
   },
   {
    "duration": 13,
    "start_time": "2023-04-05T14:48:10.446Z"
   },
   {
    "duration": 14,
    "start_time": "2023-04-05T14:48:10.461Z"
   },
   {
    "duration": 14,
    "start_time": "2023-04-05T14:48:10.478Z"
   },
   {
    "duration": 69,
    "start_time": "2023-04-05T14:48:10.495Z"
   },
   {
    "duration": 264,
    "start_time": "2023-04-05T14:48:10.566Z"
   },
   {
    "duration": 6707,
    "start_time": "2023-04-05T14:48:10.832Z"
   },
   {
    "duration": 86,
    "start_time": "2023-04-05T14:48:17.541Z"
   },
   {
    "duration": 196,
    "start_time": "2023-04-05T14:48:17.629Z"
   },
   {
    "duration": 196,
    "start_time": "2023-04-05T14:48:17.827Z"
   },
   {
    "duration": 112,
    "start_time": "2023-04-05T14:48:18.026Z"
   },
   {
    "duration": 1732,
    "start_time": "2023-04-05T14:48:18.140Z"
   },
   {
    "duration": 257,
    "start_time": "2023-04-05T14:48:19.874Z"
   },
   {
    "duration": 929,
    "start_time": "2023-04-05T14:48:20.133Z"
   },
   {
    "duration": 94,
    "start_time": "2023-04-05T14:48:21.065Z"
   },
   {
    "duration": 24,
    "start_time": "2023-04-05T14:48:21.161Z"
   },
   {
    "duration": 57,
    "start_time": "2023-04-05T14:48:21.187Z"
   },
   {
    "duration": 322,
    "start_time": "2023-04-05T14:48:21.246Z"
   },
   {
    "duration": 169,
    "start_time": "2023-04-05T14:48:21.570Z"
   },
   {
    "duration": 247,
    "start_time": "2023-04-05T14:48:21.741Z"
   },
   {
    "duration": 58,
    "start_time": "2023-04-05T14:55:34.872Z"
   },
   {
    "duration": 96,
    "start_time": "2023-04-05T14:55:51.932Z"
   },
   {
    "duration": 15,
    "start_time": "2023-04-05T14:56:26.986Z"
   },
   {
    "duration": 12,
    "start_time": "2023-04-05T14:56:27.993Z"
   },
   {
    "duration": 1528,
    "start_time": "2023-04-05T15:01:05.666Z"
   },
   {
    "duration": 126,
    "start_time": "2023-04-05T15:02:21.196Z"
   },
   {
    "duration": 5,
    "start_time": "2023-04-05T15:02:51.968Z"
   },
   {
    "duration": 4,
    "start_time": "2023-04-05T15:03:11.357Z"
   },
   {
    "duration": 52,
    "start_time": "2023-04-05T15:06:15.375Z"
   },
   {
    "duration": 16,
    "start_time": "2023-04-05T15:06:28.536Z"
   },
   {
    "duration": 1034,
    "start_time": "2023-04-05T15:06:49.967Z"
   },
   {
    "duration": 1083,
    "start_time": "2023-04-05T15:07:00.124Z"
   },
   {
    "duration": 209,
    "start_time": "2023-04-05T15:07:08.140Z"
   },
   {
    "duration": 841,
    "start_time": "2023-04-05T15:07:17.705Z"
   },
   {
    "duration": 62,
    "start_time": "2023-04-05T15:07:22.616Z"
   },
   {
    "duration": 19,
    "start_time": "2023-04-05T15:07:23.387Z"
   },
   {
    "duration": 36,
    "start_time": "2023-04-05T15:07:24.888Z"
   },
   {
    "duration": 321,
    "start_time": "2023-04-05T15:07:38.538Z"
   },
   {
    "duration": 151,
    "start_time": "2023-04-05T15:07:41.945Z"
   },
   {
    "duration": 212,
    "start_time": "2023-04-05T15:07:45.411Z"
   },
   {
    "duration": 1455,
    "start_time": "2023-04-05T15:12:26.127Z"
   },
   {
    "duration": 36,
    "start_time": "2023-04-05T15:12:27.585Z"
   },
   {
    "duration": 15,
    "start_time": "2023-04-05T15:12:27.623Z"
   },
   {
    "duration": 47,
    "start_time": "2023-04-05T15:12:27.639Z"
   },
   {
    "duration": 35,
    "start_time": "2023-04-05T15:12:27.688Z"
   },
   {
    "duration": 18,
    "start_time": "2023-04-05T15:12:27.725Z"
   },
   {
    "duration": 7,
    "start_time": "2023-04-05T15:12:27.746Z"
   },
   {
    "duration": 22,
    "start_time": "2023-04-05T15:12:27.755Z"
   },
   {
    "duration": 10,
    "start_time": "2023-04-05T15:12:27.780Z"
   },
   {
    "duration": 39,
    "start_time": "2023-04-05T15:12:27.792Z"
   },
   {
    "duration": 5,
    "start_time": "2023-04-05T15:12:27.834Z"
   },
   {
    "duration": 17,
    "start_time": "2023-04-05T15:12:27.842Z"
   },
   {
    "duration": 6,
    "start_time": "2023-04-05T15:12:27.860Z"
   },
   {
    "duration": 166,
    "start_time": "2023-04-05T15:12:27.869Z"
   },
   {
    "duration": 14,
    "start_time": "2023-04-05T15:12:28.037Z"
   },
   {
    "duration": 11,
    "start_time": "2023-04-05T15:12:28.053Z"
   },
   {
    "duration": 11,
    "start_time": "2023-04-05T15:12:28.066Z"
   },
   {
    "duration": 57,
    "start_time": "2023-04-05T15:12:28.079Z"
   },
   {
    "duration": 255,
    "start_time": "2023-04-05T15:12:28.138Z"
   },
   {
    "duration": 6391,
    "start_time": "2023-04-05T15:12:28.394Z"
   },
   {
    "duration": 44,
    "start_time": "2023-04-05T15:12:34.788Z"
   },
   {
    "duration": 114,
    "start_time": "2023-04-05T15:12:34.922Z"
   },
   {
    "duration": 14,
    "start_time": "2023-04-05T15:12:35.038Z"
   },
   {
    "duration": 69,
    "start_time": "2023-04-05T15:12:35.055Z"
   },
   {
    "duration": 198,
    "start_time": "2023-04-05T15:12:35.126Z"
   },
   {
    "duration": 109,
    "start_time": "2023-04-05T15:12:35.326Z"
   },
   {
    "duration": 1048,
    "start_time": "2023-04-05T15:12:35.438Z"
   },
   {
    "duration": 212,
    "start_time": "2023-04-05T15:12:36.488Z"
   },
   {
    "duration": 793,
    "start_time": "2023-04-05T15:12:36.702Z"
   },
   {
    "duration": 70,
    "start_time": "2023-04-05T15:12:37.498Z"
   },
   {
    "duration": 19,
    "start_time": "2023-04-05T15:12:37.570Z"
   },
   {
    "duration": 52,
    "start_time": "2023-04-05T15:12:37.591Z"
   },
   {
    "duration": 317,
    "start_time": "2023-04-05T15:12:37.645Z"
   },
   {
    "duration": 166,
    "start_time": "2023-04-05T15:12:37.964Z"
   },
   {
    "duration": 252,
    "start_time": "2023-04-05T15:12:38.132Z"
   },
   {
    "duration": 1462,
    "start_time": "2023-04-05T15:17:33.906Z"
   },
   {
    "duration": 37,
    "start_time": "2023-04-05T15:17:35.370Z"
   },
   {
    "duration": 16,
    "start_time": "2023-04-05T15:17:35.408Z"
   },
   {
    "duration": 50,
    "start_time": "2023-04-05T15:17:35.426Z"
   },
   {
    "duration": 14,
    "start_time": "2023-04-05T15:17:35.479Z"
   },
   {
    "duration": 36,
    "start_time": "2023-04-05T15:17:35.494Z"
   },
   {
    "duration": 14,
    "start_time": "2023-04-05T15:17:35.532Z"
   },
   {
    "duration": 17,
    "start_time": "2023-04-05T15:17:35.548Z"
   },
   {
    "duration": 9,
    "start_time": "2023-04-05T15:17:35.567Z"
   },
   {
    "duration": 17,
    "start_time": "2023-04-05T15:17:35.578Z"
   },
   {
    "duration": 5,
    "start_time": "2023-04-05T15:17:35.596Z"
   },
   {
    "duration": 25,
    "start_time": "2023-04-05T15:17:35.602Z"
   },
   {
    "duration": 8,
    "start_time": "2023-04-05T15:17:35.628Z"
   },
   {
    "duration": 144,
    "start_time": "2023-04-05T15:17:35.639Z"
   },
   {
    "duration": 15,
    "start_time": "2023-04-05T15:17:35.785Z"
   },
   {
    "duration": 25,
    "start_time": "2023-04-05T15:17:35.802Z"
   },
   {
    "duration": 9,
    "start_time": "2023-04-05T15:17:35.829Z"
   },
   {
    "duration": 34,
    "start_time": "2023-04-05T15:17:35.840Z"
   },
   {
    "duration": 263,
    "start_time": "2023-04-05T15:17:35.876Z"
   },
   {
    "duration": 6160,
    "start_time": "2023-04-05T15:17:36.140Z"
   },
   {
    "duration": 124,
    "start_time": "2023-04-05T15:17:42.302Z"
   },
   {
    "duration": 107,
    "start_time": "2023-04-05T15:17:42.427Z"
   },
   {
    "duration": 19,
    "start_time": "2023-04-05T15:17:42.537Z"
   },
   {
    "duration": 85,
    "start_time": "2023-04-05T15:17:42.558Z"
   },
   {
    "duration": 90,
    "start_time": "2023-04-05T15:17:42.645Z"
   },
   {
    "duration": 187,
    "start_time": "2023-04-05T15:17:42.737Z"
   },
   {
    "duration": 12651,
    "start_time": "2023-04-05T15:17:42.926Z"
   },
   {
    "duration": 199,
    "start_time": "2023-04-05T15:17:55.579Z"
   },
   {
    "duration": 753,
    "start_time": "2023-04-05T15:17:55.780Z"
   },
   {
    "duration": 59,
    "start_time": "2023-04-05T15:17:56.535Z"
   },
   {
    "duration": 32,
    "start_time": "2023-04-05T15:17:56.595Z"
   },
   {
    "duration": 51,
    "start_time": "2023-04-05T15:17:56.629Z"
   },
   {
    "duration": 312,
    "start_time": "2023-04-05T15:17:56.682Z"
   },
   {
    "duration": 168,
    "start_time": "2023-04-05T15:17:56.996Z"
   },
   {
    "duration": 127,
    "start_time": "2023-04-05T15:17:57.165Z"
   },
   {
    "duration": 9994,
    "start_time": "2023-04-05T15:18:40.905Z"
   },
   {
    "duration": 887,
    "start_time": "2023-04-05T15:19:38.216Z"
   },
   {
    "duration": 211,
    "start_time": "2023-04-05T15:19:43.103Z"
   },
   {
    "duration": 23,
    "start_time": "2023-04-05T15:25:29.760Z"
   },
   {
    "duration": 20,
    "start_time": "2023-04-05T15:28:51.460Z"
   },
   {
    "duration": 61,
    "start_time": "2023-04-05T15:28:54.060Z"
   },
   {
    "duration": 19,
    "start_time": "2023-04-05T15:28:55.272Z"
   },
   {
    "duration": 1380,
    "start_time": "2023-04-05T15:29:06.625Z"
   },
   {
    "duration": 36,
    "start_time": "2023-04-05T15:29:08.007Z"
   },
   {
    "duration": 14,
    "start_time": "2023-04-05T15:29:08.045Z"
   },
   {
    "duration": 46,
    "start_time": "2023-04-05T15:29:08.061Z"
   },
   {
    "duration": 25,
    "start_time": "2023-04-05T15:29:08.109Z"
   },
   {
    "duration": 13,
    "start_time": "2023-04-05T15:29:08.136Z"
   },
   {
    "duration": 8,
    "start_time": "2023-04-05T15:29:08.150Z"
   },
   {
    "duration": 6,
    "start_time": "2023-04-05T15:29:08.159Z"
   },
   {
    "duration": 11,
    "start_time": "2023-04-05T15:29:08.167Z"
   },
   {
    "duration": 46,
    "start_time": "2023-04-05T15:29:08.180Z"
   },
   {
    "duration": 4,
    "start_time": "2023-04-05T15:29:08.228Z"
   },
   {
    "duration": 18,
    "start_time": "2023-04-05T15:29:08.234Z"
   },
   {
    "duration": 6,
    "start_time": "2023-04-05T15:29:08.253Z"
   },
   {
    "duration": 158,
    "start_time": "2023-04-05T15:29:08.262Z"
   },
   {
    "duration": 13,
    "start_time": "2023-04-05T15:29:08.424Z"
   },
   {
    "duration": 12,
    "start_time": "2023-04-05T15:29:08.439Z"
   },
   {
    "duration": 8,
    "start_time": "2023-04-05T15:29:08.453Z"
   },
   {
    "duration": 32,
    "start_time": "2023-04-05T15:29:08.463Z"
   },
   {
    "duration": 260,
    "start_time": "2023-04-05T15:29:08.523Z"
   },
   {
    "duration": 7076,
    "start_time": "2023-04-05T15:29:08.785Z"
   },
   {
    "duration": 69,
    "start_time": "2023-04-05T15:29:15.863Z"
   },
   {
    "duration": 104,
    "start_time": "2023-04-05T15:29:15.934Z"
   },
   {
    "duration": 13,
    "start_time": "2023-04-05T15:29:16.123Z"
   },
   {
    "duration": 49,
    "start_time": "2023-04-05T15:29:16.138Z"
   },
   {
    "duration": 103,
    "start_time": "2023-04-05T15:29:16.224Z"
   },
   {
    "duration": 115,
    "start_time": "2023-04-05T15:29:16.329Z"
   },
   {
    "duration": 953,
    "start_time": "2023-04-05T15:29:16.524Z"
   },
   {
    "duration": 206,
    "start_time": "2023-04-05T15:29:17.479Z"
   },
   {
    "duration": 817,
    "start_time": "2023-04-05T15:29:17.688Z"
   },
   {
    "duration": 76,
    "start_time": "2023-04-05T15:29:18.506Z"
   },
   {
    "duration": 25,
    "start_time": "2023-04-05T15:29:18.585Z"
   },
   {
    "duration": 46,
    "start_time": "2023-04-05T15:29:18.612Z"
   },
   {
    "duration": 299,
    "start_time": "2023-04-05T15:29:18.659Z"
   },
   {
    "duration": 133,
    "start_time": "2023-04-05T15:29:18.960Z"
   },
   {
    "duration": 0,
    "start_time": "2023-04-05T15:29:19.095Z"
   },
   {
    "duration": 20,
    "start_time": "2023-04-05T15:30:34.166Z"
   },
   {
    "duration": 154,
    "start_time": "2023-04-05T15:31:20.081Z"
   },
   {
    "duration": 213,
    "start_time": "2023-04-05T15:31:24.194Z"
   }
  ],
  "kernelspec": {
   "display_name": "Python 3 (ipykernel)",
   "language": "python",
   "name": "python3"
  },
  "language_info": {
   "codemirror_mode": {
    "name": "ipython",
    "version": 3
   },
   "file_extension": ".py",
   "mimetype": "text/x-python",
   "name": "python",
   "nbconvert_exporter": "python",
   "pygments_lexer": "ipython3",
   "version": "3.9.13"
  },
  "toc": {
   "base_numbering": 1,
   "nav_menu": {},
   "number_sections": true,
   "sideBar": true,
   "skip_h1_title": true,
   "title_cell": "Содержание",
   "title_sidebar": "Contents",
   "toc_cell": true,
   "toc_position": {
    "height": "calc(100% - 180px)",
    "left": "10px",
    "top": "150px",
    "width": "279.825px"
   },
   "toc_section_display": true,
   "toc_window_display": false
  }
 },
 "nbformat": 4,
 "nbformat_minor": 2
}
